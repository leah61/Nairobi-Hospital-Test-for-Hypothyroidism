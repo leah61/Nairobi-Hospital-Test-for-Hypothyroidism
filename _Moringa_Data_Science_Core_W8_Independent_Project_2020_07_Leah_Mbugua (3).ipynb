{
  "nbformat": 4,
  "nbformat_minor": 0,
  "metadata": {
    "colab": {
      "name": "_Moringa_Data_Science_Core_W8_Independent_Project_2020_07_Leah_Mbugua.ipynb",
      "provenance": [],
      "collapsed_sections": [],
      "toc_visible": true
    },
    "kernelspec": {
      "name": "python3",
      "display_name": "Python 3"
    }
  },
  "cells": [
    {
      "cell_type": "markdown",
      "metadata": {
        "id": "T1OK9UMKw8TN",
        "colab_type": "text"
      },
      "source": [
        "##**Defining the Question.**\n",
        "Nairobi hospital requires us to build a model to check if a patient tests positive or negative for hypothyroid"
      ]
    },
    {
      "cell_type": "markdown",
      "metadata": {
        "id": "ibi6jIk9w9UK",
        "colab_type": "text"
      },
      "source": [
        "##**a) Specifying the Question**\n",
        "\n",
        "Build a model that determines whether or not the patient's symptoms indicate that the patient has hypothyroid."
      ]
    },
    {
      "cell_type": "markdown",
      "metadata": {
        "id": "0TUaMWPzw9YY",
        "colab_type": "text"
      },
      "source": [
        "##**b) Defining the Metric for Success**\n",
        "\n",
        "Load and Analyze data. Normalize data as it has different units. Create random forest classifier model to depict accuracy.Challenge the model with other models and check accuracy change."
      ]
    },
    {
      "cell_type": "markdown",
      "metadata": {
        "id": "N1yQq5Oqw9qk",
        "colab_type": "text"
      },
      "source": [
        "##**c) Understanding the context**\n",
        "\n",
        "Nairobi Hospital conducted a clinical camp to test for hypothyroidism. The data collected focused on Thyroid patients. Use the healthcare datasets provided to accomplish the following:  \n",
        "\n",
        "Build a model that determines whether or not the patient's symptoms indicate that the patient has hypothyroid.\n",
        "\n",
        "**Part 1: Decision trees:**\n",
        "- For this section, you should build a model that makes the above prediction. You should not use individual decision trees, rather you should use at least 2 out of the 3 advanced models we have studied: Random forests, Ada boosted trees, and gradient boosted trees.\n",
        "- Try and optimize each of the 2 models, making sure to document how you've set up your hyperparameters.\n",
        "- Identify which of the 2 models you trust most, and use your model to determine which features are most impactful in influencing the prediction\n",
        "- Note that with decision trees, you don't need to do a lot of data cleaning. This will be very different with SVM.\n",
        "\n",
        "**Part 2: SVM:**\n",
        "\n",
        "- In this section, you may be required to clean the data a little bit so as to make sense of the features.\n",
        "\n",
        "- Document what transformation you've done on the data.\n",
        "\n",
        "- Apply Polynomial, linear and rbf kernel function to build your SVM model and then evaluate their performance and pick the kernel that performs the best. Remember to tune your parameters to improve the performance of your model. To make your life easier, make sure to visualize the models you've created. Use any two features to build the models for this step.\n",
        "\n",
        "Hint: You may want to use decision trees to give you the most preferable features you can use. but also keep in mind that those features might not be suitable for SVM. It might be a good idea to graph them first.\n",
        "\n",
        "-  After getting your best performing kernel, use this kernel together with your tuned parameters and repeat the prediction but this time using additional features. Compare the model you've just created with the 2-features version. "
      ]
    },
    {
      "cell_type": "markdown",
      "metadata": {
        "id": "Ofw6NJymw-Bc",
        "colab_type": "text"
      },
      "source": [
        "##**d) Recording the Experimental Design**\n",
        "\n",
        "(CRISP- DM) methodology\n",
        "\n",
        "Get the data\n",
        "\n",
        "understand the data\n",
        "\n",
        "Clean the data\n",
        "\n",
        "Explore the data\n",
        "\n",
        "Create models\n",
        "\n",
        "Challenge model\n",
        "\n",
        "Evaluate model perfomance"
      ]
    },
    {
      "cell_type": "markdown",
      "metadata": {
        "id": "TBUe7IyUyqBh",
        "colab_type": "text"
      },
      "source": [
        "##1. **Data Relevance**"
      ]
    },
    {
      "cell_type": "markdown",
      "metadata": {
        "id": "dB4oFEYoyytR",
        "colab_type": "text"
      },
      "source": [
        "###1.1 **Loading Libraries**"
      ]
    },
    {
      "cell_type": "code",
      "metadata": {
        "id": "iFhR1ucuyU2d",
        "colab_type": "code",
        "colab": {}
      },
      "source": [
        "#Import pandas libraries\n",
        "import pandas as pd\n",
        "\n",
        "#Import numpy libraries\n",
        "import numpy as np\n",
        "\n",
        "import seaborn as sns\n",
        "import matplotlib.pyplot as plt\n",
        "%matplotlib inline\n",
        "\n",
        "\n",
        "#Import category encoders\n",
        "import category_encoders as ce\n",
        "\n",
        "\n",
        "#Import sklearn libraries\n",
        "from sklearn.impute import SimpleImputer\n",
        "from sklearn import metrics\n",
        "#  import classifier libraries\n",
        "from sklearn.ensemble import AdaBoostClassifier\n",
        "from sklearn.tree import DecisionTreeClassifier\n",
        "from sklearn.ensemble import GradientBoostingClassifier\n",
        "from sklearn.model_selection import train_test_split\n",
        "from sklearn.ensemble import RandomForestClassifier\n",
        "from sklearn.preprocessing import RobustScaler\n",
        "\n",
        "\n",
        "# Import Suport Vector Classifier module from svm library. We'll use SVC to model our data\n",
        "from sklearn.svm import SVC,LinearSVC\n",
        "from sklearn.model_selection import train_test_split\n",
        "# Import scikit-learn metrics module for accuracy calculation\n",
        "from sklearn.metrics import  accuracy_score\n",
        "from sklearn.metrics import confusion_matrix\n",
        "\n",
        "#Import warnings filter libraries\n",
        "import warnings\n",
        "warnings.filterwarnings('ignore')"
      ],
      "execution_count": 0,
      "outputs": []
    },
    {
      "cell_type": "markdown",
      "metadata": {
        "id": "g9r8hNCVzDG3",
        "colab_type": "text"
      },
      "source": [
        "### 1.2 **Load Dataset**"
      ]
    },
    {
      "cell_type": "code",
      "metadata": {
        "id": "9DnOgqpS2q65",
        "colab_type": "code",
        "outputId": "ffe3efd7-7eba-4950-d9ec-16dcd7a029b2",
        "colab": {
          "base_uri": "https://localhost:8080/",
          "height": 34
        }
      },
      "source": [
        "#Load the dataset\n",
        "df = pd.read_csv('hypothyroid.csv')\n",
        "\n",
        "# Check shape of the dataset\n",
        "df.shape"
      ],
      "execution_count": 2,
      "outputs": [
        {
          "output_type": "execute_result",
          "data": {
            "text/plain": [
              "(3163, 26)"
            ]
          },
          "metadata": {
            "tags": []
          },
          "execution_count": 2
        }
      ]
    },
    {
      "cell_type": "markdown",
      "metadata": {
        "id": "L7f76cqbzOaS",
        "colab_type": "text"
      },
      "source": [
        "\n",
        "\n",
        "*   Our dataset has 26 columns and 3163 rows.\n",
        "\n",
        "\n"
      ]
    },
    {
      "cell_type": "code",
      "metadata": {
        "id": "MihrIoHR3MxU",
        "colab_type": "code",
        "outputId": "57bcbffc-c0cc-4243-b8f0-fafd0eb3667c",
        "colab": {
          "base_uri": "https://localhost:8080/",
          "height": 224
        }
      },
      "source": [
        "#Check the first five rows of our dataset\n",
        "df.head()"
      ],
      "execution_count": 0,
      "outputs": [
        {
          "output_type": "execute_result",
          "data": {
            "text/html": [
              "<div>\n",
              "<style scoped>\n",
              "    .dataframe tbody tr th:only-of-type {\n",
              "        vertical-align: middle;\n",
              "    }\n",
              "\n",
              "    .dataframe tbody tr th {\n",
              "        vertical-align: top;\n",
              "    }\n",
              "\n",
              "    .dataframe thead th {\n",
              "        text-align: right;\n",
              "    }\n",
              "</style>\n",
              "<table border=\"1\" class=\"dataframe\">\n",
              "  <thead>\n",
              "    <tr style=\"text-align: right;\">\n",
              "      <th></th>\n",
              "      <th>status</th>\n",
              "      <th>age</th>\n",
              "      <th>sex</th>\n",
              "      <th>on_thyroxine</th>\n",
              "      <th>query_on_thyroxine</th>\n",
              "      <th>on_antithyroid_medication</th>\n",
              "      <th>thyroid_surgery</th>\n",
              "      <th>query_hypothyroid</th>\n",
              "      <th>query_hyperthyroid</th>\n",
              "      <th>pregnant</th>\n",
              "      <th>sick</th>\n",
              "      <th>tumor</th>\n",
              "      <th>lithium</th>\n",
              "      <th>goitre</th>\n",
              "      <th>TSH_measured</th>\n",
              "      <th>TSH</th>\n",
              "      <th>T3_measured</th>\n",
              "      <th>T3</th>\n",
              "      <th>TT4_measured</th>\n",
              "      <th>TT4</th>\n",
              "      <th>T4U_measured</th>\n",
              "      <th>T4U</th>\n",
              "      <th>FTI_measured</th>\n",
              "      <th>FTI</th>\n",
              "      <th>TBG_measured</th>\n",
              "      <th>TBG</th>\n",
              "    </tr>\n",
              "  </thead>\n",
              "  <tbody>\n",
              "    <tr>\n",
              "      <th>0</th>\n",
              "      <td>hypothyroid</td>\n",
              "      <td>72</td>\n",
              "      <td>M</td>\n",
              "      <td>f</td>\n",
              "      <td>f</td>\n",
              "      <td>f</td>\n",
              "      <td>f</td>\n",
              "      <td>f</td>\n",
              "      <td>f</td>\n",
              "      <td>f</td>\n",
              "      <td>f</td>\n",
              "      <td>f</td>\n",
              "      <td>f</td>\n",
              "      <td>f</td>\n",
              "      <td>y</td>\n",
              "      <td>30</td>\n",
              "      <td>y</td>\n",
              "      <td>0.60</td>\n",
              "      <td>y</td>\n",
              "      <td>15</td>\n",
              "      <td>y</td>\n",
              "      <td>1.48</td>\n",
              "      <td>y</td>\n",
              "      <td>10</td>\n",
              "      <td>n</td>\n",
              "      <td>NaN</td>\n",
              "    </tr>\n",
              "    <tr>\n",
              "      <th>1</th>\n",
              "      <td>hypothyroid</td>\n",
              "      <td>15</td>\n",
              "      <td>F</td>\n",
              "      <td>t</td>\n",
              "      <td>f</td>\n",
              "      <td>f</td>\n",
              "      <td>f</td>\n",
              "      <td>f</td>\n",
              "      <td>f</td>\n",
              "      <td>f</td>\n",
              "      <td>f</td>\n",
              "      <td>f</td>\n",
              "      <td>f</td>\n",
              "      <td>f</td>\n",
              "      <td>y</td>\n",
              "      <td>145</td>\n",
              "      <td>y</td>\n",
              "      <td>1.70</td>\n",
              "      <td>y</td>\n",
              "      <td>19</td>\n",
              "      <td>y</td>\n",
              "      <td>1.13</td>\n",
              "      <td>y</td>\n",
              "      <td>17</td>\n",
              "      <td>n</td>\n",
              "      <td>NaN</td>\n",
              "    </tr>\n",
              "    <tr>\n",
              "      <th>2</th>\n",
              "      <td>hypothyroid</td>\n",
              "      <td>24</td>\n",
              "      <td>M</td>\n",
              "      <td>f</td>\n",
              "      <td>f</td>\n",
              "      <td>f</td>\n",
              "      <td>f</td>\n",
              "      <td>f</td>\n",
              "      <td>f</td>\n",
              "      <td>f</td>\n",
              "      <td>f</td>\n",
              "      <td>f</td>\n",
              "      <td>f</td>\n",
              "      <td>f</td>\n",
              "      <td>y</td>\n",
              "      <td>0</td>\n",
              "      <td>y</td>\n",
              "      <td>0.20</td>\n",
              "      <td>y</td>\n",
              "      <td>4</td>\n",
              "      <td>y</td>\n",
              "      <td>1</td>\n",
              "      <td>y</td>\n",
              "      <td>0</td>\n",
              "      <td>n</td>\n",
              "      <td>NaN</td>\n",
              "    </tr>\n",
              "    <tr>\n",
              "      <th>3</th>\n",
              "      <td>hypothyroid</td>\n",
              "      <td>24</td>\n",
              "      <td>F</td>\n",
              "      <td>f</td>\n",
              "      <td>f</td>\n",
              "      <td>f</td>\n",
              "      <td>f</td>\n",
              "      <td>f</td>\n",
              "      <td>f</td>\n",
              "      <td>f</td>\n",
              "      <td>f</td>\n",
              "      <td>f</td>\n",
              "      <td>f</td>\n",
              "      <td>f</td>\n",
              "      <td>y</td>\n",
              "      <td>430</td>\n",
              "      <td>y</td>\n",
              "      <td>0.40</td>\n",
              "      <td>y</td>\n",
              "      <td>6</td>\n",
              "      <td>y</td>\n",
              "      <td>1.04</td>\n",
              "      <td>y</td>\n",
              "      <td>6</td>\n",
              "      <td>n</td>\n",
              "      <td>NaN</td>\n",
              "    </tr>\n",
              "    <tr>\n",
              "      <th>4</th>\n",
              "      <td>hypothyroid</td>\n",
              "      <td>77</td>\n",
              "      <td>M</td>\n",
              "      <td>f</td>\n",
              "      <td>f</td>\n",
              "      <td>f</td>\n",
              "      <td>f</td>\n",
              "      <td>f</td>\n",
              "      <td>f</td>\n",
              "      <td>f</td>\n",
              "      <td>f</td>\n",
              "      <td>f</td>\n",
              "      <td>f</td>\n",
              "      <td>f</td>\n",
              "      <td>y</td>\n",
              "      <td>7.30</td>\n",
              "      <td>y</td>\n",
              "      <td>1.20</td>\n",
              "      <td>y</td>\n",
              "      <td>57</td>\n",
              "      <td>y</td>\n",
              "      <td>1.28</td>\n",
              "      <td>y</td>\n",
              "      <td>44</td>\n",
              "      <td>n</td>\n",
              "      <td>NaN</td>\n",
              "    </tr>\n",
              "  </tbody>\n",
              "</table>\n",
              "</div>"
            ],
            "text/plain": [
              "        status age sex on_thyroxine  ... FTI_measured FTI TBG_measured  TBG\n",
              "0  hypothyroid  72   M            f  ...            y  10            n  NaN\n",
              "1  hypothyroid  15   F            t  ...            y  17            n  NaN\n",
              "2  hypothyroid  24   M            f  ...            y   0            n  NaN\n",
              "3  hypothyroid  24   F            f  ...            y   6            n  NaN\n",
              "4  hypothyroid  77   M            f  ...            y  44            n  NaN\n",
              "\n",
              "[5 rows x 26 columns]"
            ]
          },
          "metadata": {
            "tags": []
          },
          "execution_count": 68
        }
      ]
    },
    {
      "cell_type": "markdown",
      "metadata": {
        "id": "NEv8v7s7zYNi",
        "colab_type": "text"
      },
      "source": [
        "###**1.3 Data Cleaning**"
      ]
    },
    {
      "cell_type": "code",
      "metadata": {
        "id": "GGa5zki8GN-H",
        "colab_type": "code",
        "outputId": "2ff34ca3-2790-4762-ac7b-5e8e48a45531",
        "colab": {
          "base_uri": "https://localhost:8080/",
          "height": 476
        }
      },
      "source": [
        "#Check null values\n",
        "\n",
        "df.isnull().sum()"
      ],
      "execution_count": 0,
      "outputs": [
        {
          "output_type": "execute_result",
          "data": {
            "text/plain": [
              "status                       0\n",
              "age                          0\n",
              "sex                          0\n",
              "on_thyroxine                 0\n",
              "query_on_thyroxine           0\n",
              "on_antithyroid_medication    0\n",
              "thyroid_surgery              0\n",
              "query_hypothyroid            0\n",
              "query_hyperthyroid           0\n",
              "pregnant                     0\n",
              "sick                         0\n",
              "tumor                        0\n",
              "lithium                      0\n",
              "goitre                       0\n",
              "TSH_measured                 0\n",
              "TSH                          0\n",
              "T3_measured                  0\n",
              "T3                           0\n",
              "TT4_measured                 0\n",
              "TT4                          0\n",
              "T4U_measured                 0\n",
              "T4U                          0\n",
              "FTI_measured                 0\n",
              "FTI                          0\n",
              "TBG_measured                 0\n",
              "TBG                          0\n",
              "dtype: int64"
            ]
          },
          "metadata": {
            "tags": []
          },
          "execution_count": 127
        }
      ]
    },
    {
      "cell_type": "markdown",
      "metadata": {
        "id": "O_Hz2GdKH_kw",
        "colab_type": "text"
      },
      "source": [
        "Our dataset has no null values. However if we check on certain  columns there is a ? which should be converted to NAN value"
      ]
    },
    {
      "cell_type": "markdown",
      "metadata": {
        "id": "FoDtI23VIl6d",
        "colab_type": "text"
      },
      "source": [
        "### **1.4 Replace ? with NAN**"
      ]
    },
    {
      "cell_type": "code",
      "metadata": {
        "id": "yqTOfpzM4fQL",
        "colab_type": "code",
        "outputId": "af8c5955-89ed-4c22-b6f7-8fd102ad51dc",
        "colab": {
          "base_uri": "https://localhost:8080/",
          "height": 493
        }
      },
      "source": [
        "#Count unique elements in each column including NaN\n",
        "uniqueValues = df.nunique(dropna=False)\n",
        "uniqueValues\n"
      ],
      "execution_count": 0,
      "outputs": [
        {
          "output_type": "stream",
          "text": [
            "Count Unique values in each column including NaN\n",
            "status                         2\n",
            "age                           93\n",
            "sex                            3\n",
            "on_thyroxine                   2\n",
            "query_on_thyroxine             2\n",
            "on_antithyroid_medication      2\n",
            "thyroid_surgery                2\n",
            "query_hypothyroid              2\n",
            "query_hyperthyroid             2\n",
            "pregnant                       2\n",
            "sick                           2\n",
            "tumor                          2\n",
            "lithium                        2\n",
            "goitre                         2\n",
            "TSH_measured                   2\n",
            "TSH                          240\n",
            "T3_measured                    2\n",
            "T3                            70\n",
            "TT4_measured                   2\n",
            "TT4                          269\n",
            "T4U_measured                   2\n",
            "T4U                          159\n",
            "FTI_measured                   2\n",
            "FTI                          281\n",
            "TBG_measured                   2\n",
            "TBG                           53\n",
            "dtype: int64\n"
          ],
          "name": "stdout"
        }
      ]
    },
    {
      "cell_type": "markdown",
      "metadata": {
        "id": "0mc_xw5tKIak",
        "colab_type": "text"
      },
      "source": [
        "\n",
        "\n",
        "*   Column sex has 3 unique values, to check we print the unique values.\n",
        "\n"
      ]
    },
    {
      "cell_type": "code",
      "metadata": {
        "id": "b9Im55pUI04u",
        "colab_type": "code",
        "outputId": "2018ad7c-dbec-4260-81a8-66e57c13068b",
        "colab": {
          "base_uri": "https://localhost:8080/",
          "height": 34
        }
      },
      "source": [
        "#For example the below column has a unique value ? which needs to be replaced  \n",
        "df['sex'].unique()"
      ],
      "execution_count": 3,
      "outputs": [
        {
          "output_type": "execute_result",
          "data": {
            "text/plain": [
              "array(['M', 'F', '?'], dtype=object)"
            ]
          },
          "metadata": {
            "tags": []
          },
          "execution_count": 3
        }
      ]
    },
    {
      "cell_type": "code",
      "metadata": {
        "id": "EfxqibpYIqY7",
        "colab_type": "code",
        "outputId": "b0703e6e-9b9a-4ce4-a9ec-8fdb7b50ba09",
        "colab": {
          "base_uri": "https://localhost:8080/",
          "height": 224
        }
      },
      "source": [
        "#Replace all rows with ? to nan\n",
        "df.replace('?',np.nan,inplace=True)\n",
        "df.head()"
      ],
      "execution_count": 4,
      "outputs": [
        {
          "output_type": "execute_result",
          "data": {
            "text/html": [
              "<div>\n",
              "<style scoped>\n",
              "    .dataframe tbody tr th:only-of-type {\n",
              "        vertical-align: middle;\n",
              "    }\n",
              "\n",
              "    .dataframe tbody tr th {\n",
              "        vertical-align: top;\n",
              "    }\n",
              "\n",
              "    .dataframe thead th {\n",
              "        text-align: right;\n",
              "    }\n",
              "</style>\n",
              "<table border=\"1\" class=\"dataframe\">\n",
              "  <thead>\n",
              "    <tr style=\"text-align: right;\">\n",
              "      <th></th>\n",
              "      <th>status</th>\n",
              "      <th>age</th>\n",
              "      <th>sex</th>\n",
              "      <th>on_thyroxine</th>\n",
              "      <th>query_on_thyroxine</th>\n",
              "      <th>on_antithyroid_medication</th>\n",
              "      <th>thyroid_surgery</th>\n",
              "      <th>query_hypothyroid</th>\n",
              "      <th>query_hyperthyroid</th>\n",
              "      <th>pregnant</th>\n",
              "      <th>sick</th>\n",
              "      <th>tumor</th>\n",
              "      <th>lithium</th>\n",
              "      <th>goitre</th>\n",
              "      <th>TSH_measured</th>\n",
              "      <th>TSH</th>\n",
              "      <th>T3_measured</th>\n",
              "      <th>T3</th>\n",
              "      <th>TT4_measured</th>\n",
              "      <th>TT4</th>\n",
              "      <th>T4U_measured</th>\n",
              "      <th>T4U</th>\n",
              "      <th>FTI_measured</th>\n",
              "      <th>FTI</th>\n",
              "      <th>TBG_measured</th>\n",
              "      <th>TBG</th>\n",
              "    </tr>\n",
              "  </thead>\n",
              "  <tbody>\n",
              "    <tr>\n",
              "      <th>0</th>\n",
              "      <td>hypothyroid</td>\n",
              "      <td>72</td>\n",
              "      <td>M</td>\n",
              "      <td>f</td>\n",
              "      <td>f</td>\n",
              "      <td>f</td>\n",
              "      <td>f</td>\n",
              "      <td>f</td>\n",
              "      <td>f</td>\n",
              "      <td>f</td>\n",
              "      <td>f</td>\n",
              "      <td>f</td>\n",
              "      <td>f</td>\n",
              "      <td>f</td>\n",
              "      <td>y</td>\n",
              "      <td>30</td>\n",
              "      <td>y</td>\n",
              "      <td>0.60</td>\n",
              "      <td>y</td>\n",
              "      <td>15</td>\n",
              "      <td>y</td>\n",
              "      <td>1.48</td>\n",
              "      <td>y</td>\n",
              "      <td>10</td>\n",
              "      <td>n</td>\n",
              "      <td>NaN</td>\n",
              "    </tr>\n",
              "    <tr>\n",
              "      <th>1</th>\n",
              "      <td>hypothyroid</td>\n",
              "      <td>15</td>\n",
              "      <td>F</td>\n",
              "      <td>t</td>\n",
              "      <td>f</td>\n",
              "      <td>f</td>\n",
              "      <td>f</td>\n",
              "      <td>f</td>\n",
              "      <td>f</td>\n",
              "      <td>f</td>\n",
              "      <td>f</td>\n",
              "      <td>f</td>\n",
              "      <td>f</td>\n",
              "      <td>f</td>\n",
              "      <td>y</td>\n",
              "      <td>145</td>\n",
              "      <td>y</td>\n",
              "      <td>1.70</td>\n",
              "      <td>y</td>\n",
              "      <td>19</td>\n",
              "      <td>y</td>\n",
              "      <td>1.13</td>\n",
              "      <td>y</td>\n",
              "      <td>17</td>\n",
              "      <td>n</td>\n",
              "      <td>NaN</td>\n",
              "    </tr>\n",
              "    <tr>\n",
              "      <th>2</th>\n",
              "      <td>hypothyroid</td>\n",
              "      <td>24</td>\n",
              "      <td>M</td>\n",
              "      <td>f</td>\n",
              "      <td>f</td>\n",
              "      <td>f</td>\n",
              "      <td>f</td>\n",
              "      <td>f</td>\n",
              "      <td>f</td>\n",
              "      <td>f</td>\n",
              "      <td>f</td>\n",
              "      <td>f</td>\n",
              "      <td>f</td>\n",
              "      <td>f</td>\n",
              "      <td>y</td>\n",
              "      <td>0</td>\n",
              "      <td>y</td>\n",
              "      <td>0.20</td>\n",
              "      <td>y</td>\n",
              "      <td>4</td>\n",
              "      <td>y</td>\n",
              "      <td>1</td>\n",
              "      <td>y</td>\n",
              "      <td>0</td>\n",
              "      <td>n</td>\n",
              "      <td>NaN</td>\n",
              "    </tr>\n",
              "    <tr>\n",
              "      <th>3</th>\n",
              "      <td>hypothyroid</td>\n",
              "      <td>24</td>\n",
              "      <td>F</td>\n",
              "      <td>f</td>\n",
              "      <td>f</td>\n",
              "      <td>f</td>\n",
              "      <td>f</td>\n",
              "      <td>f</td>\n",
              "      <td>f</td>\n",
              "      <td>f</td>\n",
              "      <td>f</td>\n",
              "      <td>f</td>\n",
              "      <td>f</td>\n",
              "      <td>f</td>\n",
              "      <td>y</td>\n",
              "      <td>430</td>\n",
              "      <td>y</td>\n",
              "      <td>0.40</td>\n",
              "      <td>y</td>\n",
              "      <td>6</td>\n",
              "      <td>y</td>\n",
              "      <td>1.04</td>\n",
              "      <td>y</td>\n",
              "      <td>6</td>\n",
              "      <td>n</td>\n",
              "      <td>NaN</td>\n",
              "    </tr>\n",
              "    <tr>\n",
              "      <th>4</th>\n",
              "      <td>hypothyroid</td>\n",
              "      <td>77</td>\n",
              "      <td>M</td>\n",
              "      <td>f</td>\n",
              "      <td>f</td>\n",
              "      <td>f</td>\n",
              "      <td>f</td>\n",
              "      <td>f</td>\n",
              "      <td>f</td>\n",
              "      <td>f</td>\n",
              "      <td>f</td>\n",
              "      <td>f</td>\n",
              "      <td>f</td>\n",
              "      <td>f</td>\n",
              "      <td>y</td>\n",
              "      <td>7.30</td>\n",
              "      <td>y</td>\n",
              "      <td>1.20</td>\n",
              "      <td>y</td>\n",
              "      <td>57</td>\n",
              "      <td>y</td>\n",
              "      <td>1.28</td>\n",
              "      <td>y</td>\n",
              "      <td>44</td>\n",
              "      <td>n</td>\n",
              "      <td>NaN</td>\n",
              "    </tr>\n",
              "  </tbody>\n",
              "</table>\n",
              "</div>"
            ],
            "text/plain": [
              "        status age sex on_thyroxine  ... FTI_measured FTI TBG_measured  TBG\n",
              "0  hypothyroid  72   M            f  ...            y  10            n  NaN\n",
              "1  hypothyroid  15   F            t  ...            y  17            n  NaN\n",
              "2  hypothyroid  24   M            f  ...            y   0            n  NaN\n",
              "3  hypothyroid  24   F            f  ...            y   6            n  NaN\n",
              "4  hypothyroid  77   M            f  ...            y  44            n  NaN\n",
              "\n",
              "[5 rows x 26 columns]"
            ]
          },
          "metadata": {
            "tags": []
          },
          "execution_count": 4
        }
      ]
    },
    {
      "cell_type": "code",
      "metadata": {
        "id": "TAARQUEDP3FD",
        "colab_type": "code",
        "outputId": "b1364f4f-67b6-48a1-d74b-f6cec9f949f0",
        "colab": {
          "base_uri": "https://localhost:8080/",
          "height": 476
        }
      },
      "source": [
        "#Check for missing values\n",
        "df.isnull().sum()"
      ],
      "execution_count": 5,
      "outputs": [
        {
          "output_type": "execute_result",
          "data": {
            "text/plain": [
              "status                          0\n",
              "age                           446\n",
              "sex                            73\n",
              "on_thyroxine                    0\n",
              "query_on_thyroxine              0\n",
              "on_antithyroid_medication       0\n",
              "thyroid_surgery                 0\n",
              "query_hypothyroid               0\n",
              "query_hyperthyroid              0\n",
              "pregnant                        0\n",
              "sick                            0\n",
              "tumor                           0\n",
              "lithium                         0\n",
              "goitre                          0\n",
              "TSH_measured                    0\n",
              "TSH                           468\n",
              "T3_measured                     0\n",
              "T3                            695\n",
              "TT4_measured                    0\n",
              "TT4                           249\n",
              "T4U_measured                    0\n",
              "T4U                           248\n",
              "FTI_measured                    0\n",
              "FTI                           247\n",
              "TBG_measured                    0\n",
              "TBG                          2903\n",
              "dtype: int64"
            ]
          },
          "metadata": {
            "tags": []
          },
          "execution_count": 5
        }
      ]
    },
    {
      "cell_type": "code",
      "metadata": {
        "id": "sBV_Fgk2IxHO",
        "colab_type": "code",
        "outputId": "619690ac-27d9-4615-e726-4a4d04f2b942",
        "colab": {
          "base_uri": "https://localhost:8080/",
          "height": 34
        }
      },
      "source": [
        "#Confirm that the ? value has been replaced.\n",
        "df['sex'].unique()\n"
      ],
      "execution_count": 0,
      "outputs": [
        {
          "output_type": "execute_result",
          "data": {
            "text/plain": [
              "array(['M', 'F', nan], dtype=object)"
            ]
          },
          "metadata": {
            "tags": []
          },
          "execution_count": 97
        }
      ]
    },
    {
      "cell_type": "code",
      "metadata": {
        "id": "NJNUAOwJFST2",
        "colab_type": "code",
        "outputId": "fcc691db-5baa-470b-d725-a9d732187a82",
        "colab": {
          "base_uri": "https://localhost:8080/",
          "height": 544
        }
      },
      "source": [
        "#Checking data types of our dataset\n",
        "\n",
        "df.info()"
      ],
      "execution_count": 6,
      "outputs": [
        {
          "output_type": "stream",
          "text": [
            "<class 'pandas.core.frame.DataFrame'>\n",
            "RangeIndex: 3163 entries, 0 to 3162\n",
            "Data columns (total 26 columns):\n",
            "status                       3163 non-null object\n",
            "age                          2717 non-null object\n",
            "sex                          3090 non-null object\n",
            "on_thyroxine                 3163 non-null object\n",
            "query_on_thyroxine           3163 non-null object\n",
            "on_antithyroid_medication    3163 non-null object\n",
            "thyroid_surgery              3163 non-null object\n",
            "query_hypothyroid            3163 non-null object\n",
            "query_hyperthyroid           3163 non-null object\n",
            "pregnant                     3163 non-null object\n",
            "sick                         3163 non-null object\n",
            "tumor                        3163 non-null object\n",
            "lithium                      3163 non-null object\n",
            "goitre                       3163 non-null object\n",
            "TSH_measured                 3163 non-null object\n",
            "TSH                          2695 non-null object\n",
            "T3_measured                  3163 non-null object\n",
            "T3                           2468 non-null object\n",
            "TT4_measured                 3163 non-null object\n",
            "TT4                          2914 non-null object\n",
            "T4U_measured                 3163 non-null object\n",
            "T4U                          2915 non-null object\n",
            "FTI_measured                 3163 non-null object\n",
            "FTI                          2916 non-null object\n",
            "TBG_measured                 3163 non-null object\n",
            "TBG                          260 non-null object\n",
            "dtypes: object(26)\n",
            "memory usage: 642.6+ KB\n"
          ],
          "name": "stdout"
        }
      ]
    },
    {
      "cell_type": "markdown",
      "metadata": {
        "id": "mcf_51sfKoHT",
        "colab_type": "text"
      },
      "source": [
        "\n",
        "\n",
        "*   There are numerical variables that need to be converted to numeric type.\n"
      ]
    },
    {
      "cell_type": "code",
      "metadata": {
        "id": "_psLaxo4LDvo",
        "colab_type": "code",
        "outputId": "19397c95-a271-4867-bb54-f0422cc766b7",
        "colab": {
          "base_uri": "https://localhost:8080/",
          "height": 34
        }
      },
      "source": [
        "num = ['age','TSH','T3','TT4','T4U','FTI']\n",
        "num"
      ],
      "execution_count": 7,
      "outputs": [
        {
          "output_type": "execute_result",
          "data": {
            "text/plain": [
              "['age', 'TSH', 'T3', 'TT4', 'T4U', 'FTI']"
            ]
          },
          "metadata": {
            "tags": []
          },
          "execution_count": 7
        }
      ]
    },
    {
      "cell_type": "code",
      "metadata": {
        "id": "wOgTcaUrLd6C",
        "colab_type": "code",
        "colab": {}
      },
      "source": [
        "categorical= ['status','sex', 'on_thyroxine', 'query_on_thyroxine','on_antithyroid_medication', 'thyroid_surgery', 'query_hypothyroid',\n",
        "      'query_hyperthyroid', 'pregnant', 'sick', 'tumor', 'lithium', 'goitre','TSH_measured','T3_measured','TT4_measured',\n",
        "      'T4U_measured','FTI_measured','TBG_measured', 'TBG']"
      ],
      "execution_count": 0,
      "outputs": []
    },
    {
      "cell_type": "code",
      "metadata": {
        "id": "wWYLWGLXL8G8",
        "colab_type": "code",
        "outputId": "669d3c8a-f90a-49b6-b256-7f86b4322346",
        "colab": {
          "base_uri": "https://localhost:8080/",
          "height": 476
        }
      },
      "source": [
        "#convert  object to numerical columns\n",
        "\n",
        "df[num] = df[num].apply(pd.to_numeric)\n",
        "df.dtypes"
      ],
      "execution_count": 9,
      "outputs": [
        {
          "output_type": "execute_result",
          "data": {
            "text/plain": [
              "status                        object\n",
              "age                          float64\n",
              "sex                           object\n",
              "on_thyroxine                  object\n",
              "query_on_thyroxine            object\n",
              "on_antithyroid_medication     object\n",
              "thyroid_surgery               object\n",
              "query_hypothyroid             object\n",
              "query_hyperthyroid            object\n",
              "pregnant                      object\n",
              "sick                          object\n",
              "tumor                         object\n",
              "lithium                       object\n",
              "goitre                        object\n",
              "TSH_measured                  object\n",
              "TSH                          float64\n",
              "T3_measured                   object\n",
              "T3                           float64\n",
              "TT4_measured                  object\n",
              "TT4                          float64\n",
              "T4U_measured                  object\n",
              "T4U                          float64\n",
              "FTI_measured                  object\n",
              "FTI                          float64\n",
              "TBG_measured                  object\n",
              "TBG                           object\n",
              "dtype: object"
            ]
          },
          "metadata": {
            "tags": []
          },
          "execution_count": 9
        }
      ]
    },
    {
      "cell_type": "code",
      "metadata": {
        "id": "opT1LZUMFabx",
        "colab_type": "code",
        "outputId": "a5ec254d-2f04-4781-e8c1-f78963d81171",
        "colab": {
          "base_uri": "https://localhost:8080/",
          "height": 34
        }
      },
      "source": [
        "# To confirm they have been converted,split numerical variables from categorical variables\n",
        "numerical_variables = [col for col in df.columns if df[col].dtypes != 'O']\n",
        "numerical_variables\n"
      ],
      "execution_count": 10,
      "outputs": [
        {
          "output_type": "execute_result",
          "data": {
            "text/plain": [
              "['age', 'TSH', 'T3', 'TT4', 'T4U', 'FTI']"
            ]
          },
          "metadata": {
            "tags": []
          },
          "execution_count": 10
        }
      ]
    },
    {
      "cell_type": "code",
      "metadata": {
        "id": "KR2ptYaRELoc",
        "colab_type": "code",
        "outputId": "f1eda5f8-0ca9-46d0-cda1-c713582e7f2e",
        "colab": {
          "base_uri": "https://localhost:8080/",
          "height": 357
        }
      },
      "source": [
        "#Get all categorical variables\n",
        "categorical_variables = [col for col in df.columns if df[col].dtypes == 'O']\n",
        "categorical_variables"
      ],
      "execution_count": 11,
      "outputs": [
        {
          "output_type": "execute_result",
          "data": {
            "text/plain": [
              "['status',\n",
              " 'sex',\n",
              " 'on_thyroxine',\n",
              " 'query_on_thyroxine',\n",
              " 'on_antithyroid_medication',\n",
              " 'thyroid_surgery',\n",
              " 'query_hypothyroid',\n",
              " 'query_hyperthyroid',\n",
              " 'pregnant',\n",
              " 'sick',\n",
              " 'tumor',\n",
              " 'lithium',\n",
              " 'goitre',\n",
              " 'TSH_measured',\n",
              " 'T3_measured',\n",
              " 'TT4_measured',\n",
              " 'T4U_measured',\n",
              " 'FTI_measured',\n",
              " 'TBG_measured',\n",
              " 'TBG']"
            ]
          },
          "metadata": {
            "tags": []
          },
          "execution_count": 11
        }
      ]
    },
    {
      "cell_type": "code",
      "metadata": {
        "id": "_xqi-czTPd8H",
        "colab_type": "code",
        "outputId": "9aed6b56-2a7e-4983-ffb1-e312a4cc7703",
        "colab": {
          "base_uri": "https://localhost:8080/",
          "height": 476
        }
      },
      "source": [
        "#Check again for missing values\n",
        "df.isnull().sum()"
      ],
      "execution_count": 12,
      "outputs": [
        {
          "output_type": "execute_result",
          "data": {
            "text/plain": [
              "status                          0\n",
              "age                           446\n",
              "sex                            73\n",
              "on_thyroxine                    0\n",
              "query_on_thyroxine              0\n",
              "on_antithyroid_medication       0\n",
              "thyroid_surgery                 0\n",
              "query_hypothyroid               0\n",
              "query_hyperthyroid              0\n",
              "pregnant                        0\n",
              "sick                            0\n",
              "tumor                           0\n",
              "lithium                         0\n",
              "goitre                          0\n",
              "TSH_measured                    0\n",
              "TSH                           468\n",
              "T3_measured                     0\n",
              "T3                            695\n",
              "TT4_measured                    0\n",
              "TT4                           249\n",
              "T4U_measured                    0\n",
              "T4U                           248\n",
              "FTI_measured                    0\n",
              "FTI                           247\n",
              "TBG_measured                    0\n",
              "TBG                          2903\n",
              "dtype: int64"
            ]
          },
          "metadata": {
            "tags": []
          },
          "execution_count": 12
        }
      ]
    },
    {
      "cell_type": "code",
      "metadata": {
        "id": "kgl7AkIPRyDf",
        "colab_type": "code",
        "colab": {}
      },
      "source": [
        "#Fill missing values of numerical variables\n",
        "# Use simple imputer to fill missing values with the mean\n",
        "\n",
        "impute = SimpleImputer(strategy ='mean')\n",
        "df[numerical_variables] = impute.fit_transform(df[numerical_variables])"
      ],
      "execution_count": 0,
      "outputs": []
    },
    {
      "cell_type": "code",
      "metadata": {
        "id": "Ox04ebMJEJBQ",
        "colab_type": "code",
        "outputId": "6471cc21-37dd-489d-dca0-09ba9b947702",
        "colab": {
          "base_uri": "https://localhost:8080/",
          "height": 476
        }
      },
      "source": [
        "# Fill missing values for categorical data\n",
        "df['sex'].fillna(df['sex'].mode()[0], inplace=True)\n",
        "df['TBG'].fillna(df['TBG'].mode()[0], inplace=True) \n",
        "\n",
        "#Confirm there are no missing values\n",
        "df.isnull().sum()   "
      ],
      "execution_count": 16,
      "outputs": [
        {
          "output_type": "execute_result",
          "data": {
            "text/plain": [
              "status                       0\n",
              "age                          0\n",
              "sex                          0\n",
              "on_thyroxine                 0\n",
              "query_on_thyroxine           0\n",
              "on_antithyroid_medication    0\n",
              "thyroid_surgery              0\n",
              "query_hypothyroid            0\n",
              "query_hyperthyroid           0\n",
              "pregnant                     0\n",
              "sick                         0\n",
              "tumor                        0\n",
              "lithium                      0\n",
              "goitre                       0\n",
              "TSH_measured                 0\n",
              "TSH                          0\n",
              "T3_measured                  0\n",
              "T3                           0\n",
              "TT4_measured                 0\n",
              "TT4                          0\n",
              "T4U_measured                 0\n",
              "T4U                          0\n",
              "FTI_measured                 0\n",
              "FTI                          0\n",
              "TBG_measured                 0\n",
              "TBG                          0\n",
              "dtype: int64"
            ]
          },
          "metadata": {
            "tags": []
          },
          "execution_count": 16
        }
      ]
    },
    {
      "cell_type": "markdown",
      "metadata": {
        "id": "LBD9vR_W1Fg5",
        "colab_type": "text"
      },
      "source": [
        "##**2. EDA(Exploratory Data Analysis)**"
      ]
    },
    {
      "cell_type": "markdown",
      "metadata": {
        "id": "tx2FQGKl2ixh",
        "colab_type": "text"
      },
      "source": [
        "###**2.1 Checking for anomalies**"
      ]
    },
    {
      "cell_type": "code",
      "metadata": {
        "id": "tLGubZJB15Qb",
        "colab_type": "code",
        "colab": {
          "base_uri": "https://localhost:8080/",
          "height": 34
        },
        "outputId": "3934e1ee-8df8-4e10-b4ea-2b59354864aa"
      },
      "source": [
        "# Check for sum of duplicated rows\n",
        "df.duplicated().sum()"
      ],
      "execution_count": 17,
      "outputs": [
        {
          "output_type": "execute_result",
          "data": {
            "text/plain": [
              "77"
            ]
          },
          "metadata": {
            "tags": []
          },
          "execution_count": 17
        }
      ]
    },
    {
      "cell_type": "markdown",
      "metadata": {
        "id": "hneQahNc18sC",
        "colab_type": "text"
      },
      "source": [
        "There are 77 duplicated rows. we drop this to avoid inconsistencies and complimicing accuracy of the model."
      ]
    },
    {
      "cell_type": "code",
      "metadata": {
        "id": "lII5m3XU2I5S",
        "colab_type": "code",
        "colab": {
          "base_uri": "https://localhost:8080/",
          "height": 34
        },
        "outputId": "9a5608ad-2b56-4ad0-acfc-8edee5c146b4"
      },
      "source": [
        "#Drop the duplicate rows.\n",
        "df.drop_duplicates(keep=False,inplace=True)\n",
        "\n",
        "#Confirm the duplicated rows have been deleted.\n",
        "df.duplicated().sum()"
      ],
      "execution_count": 18,
      "outputs": [
        {
          "output_type": "execute_result",
          "data": {
            "text/plain": [
              "0"
            ]
          },
          "metadata": {
            "tags": []
          },
          "execution_count": 18
        }
      ]
    },
    {
      "cell_type": "markdown",
      "metadata": {
        "id": "zVufysbX1RQq",
        "colab_type": "text"
      },
      "source": [
        "##**2.2 Understanding the data**\n",
        "\n",
        "For this part, I wanted to understand the qualities that would make a patient at Nairobi Hospital test negative for hypotyroid or positive for it."
      ]
    },
    {
      "cell_type": "code",
      "metadata": {
        "id": "Gk-VeuMF3--E",
        "colab_type": "code",
        "colab": {
          "base_uri": "https://localhost:8080/",
          "height": 476
        },
        "outputId": "4debcde9-bee6-42f8-dac8-93d36d259742"
      },
      "source": [
        "# Since majority status are negative, We will filter the max qualities of a patient and understand better their qualities\n",
        "\n",
        "df.max()"
      ],
      "execution_count": 24,
      "outputs": [
        {
          "output_type": "execute_result",
          "data": {
            "text/plain": [
              "status                          1\n",
              "age                            98\n",
              "sex                             M\n",
              "on_thyroxine                    t\n",
              "query_on_thyroxine              t\n",
              "on_antithyroid_medication       t\n",
              "thyroid_surgery                 t\n",
              "query_hypothyroid               t\n",
              "query_hyperthyroid              t\n",
              "pregnant                        t\n",
              "sick                            t\n",
              "tumor                           t\n",
              "lithium                         t\n",
              "goitre                          t\n",
              "TSH_measured                    y\n",
              "TSH                           530\n",
              "T3_measured                     y\n",
              "T3                           10.2\n",
              "TT4_measured                    y\n",
              "TT4                           450\n",
              "T4U_measured                    y\n",
              "T4U                          2.21\n",
              "FTI_measured                    y\n",
              "FTI                           881\n",
              "TBG_measured                    y\n",
              "TBG                          9.30\n",
              "dtype: object"
            ]
          },
          "metadata": {
            "tags": []
          },
          "execution_count": 24
        }
      ]
    },
    {
      "cell_type": "markdown",
      "metadata": {
        "id": "H_kkX8XI4UqC",
        "colab_type": "text"
      },
      "source": [
        "\n",
        "\n",
        "*   The patient is negative for hypthyroid\n",
        "\n",
        "*   Highest recorded age was 98 years and is male\n",
        "*   The patient is not sick nor pregnant nor has goitre.\n",
        "* FTI is 980, TBG 9.30\n",
        "\n"
      ]
    },
    {
      "cell_type": "code",
      "metadata": {
        "id": "KIpnQGsI5Vzm",
        "colab_type": "code",
        "colab": {
          "base_uri": "https://localhost:8080/",
          "height": 476
        },
        "outputId": "81a6096b-b318-4101-a400-d1aeef672582"
      },
      "source": [
        "# Since minority status have hypothyroid, We will filter the min qualities of a patient and understand better their qualities\n",
        "\n",
        "df.min()"
      ],
      "execution_count": 25,
      "outputs": [
        {
          "output_type": "execute_result",
          "data": {
            "text/plain": [
              "status                         0\n",
              "age                            1\n",
              "sex                            F\n",
              "on_thyroxine                   f\n",
              "query_on_thyroxine             f\n",
              "on_antithyroid_medication      f\n",
              "thyroid_surgery                f\n",
              "query_hypothyroid              f\n",
              "query_hyperthyroid             f\n",
              "pregnant                       f\n",
              "sick                           f\n",
              "tumor                          f\n",
              "lithium                        f\n",
              "goitre                         f\n",
              "TSH_measured                   n\n",
              "TSH                            0\n",
              "T3_measured                    n\n",
              "T3                             0\n",
              "TT4_measured                   n\n",
              "TT4                            2\n",
              "T4U_measured                   n\n",
              "T4U                          0.2\n",
              "FTI_measured                   n\n",
              "FTI                            0\n",
              "TBG_measured                   n\n",
              "TBG                            0\n",
              "dtype: object"
            ]
          },
          "metadata": {
            "tags": []
          },
          "execution_count": 25
        }
      ]
    },
    {
      "cell_type": "markdown",
      "metadata": {
        "id": "ypn8bOts5mAZ",
        "colab_type": "text"
      },
      "source": [
        "\n",
        "\n",
        "*   Lowest age recorded was one year and is female.\n",
        "*  FTI is 0 and TBG is 0\n",
        "\n",
        "*   However being pregnant at that age does not make sense.This can be an input done after filling nan with mode or was an input error at the facility.\n",
        "\n",
        "\n",
        "*   Better evaluation will be done by the models.\n",
        "\n",
        "\n",
        "\n",
        "\n",
        "\n",
        "\n"
      ]
    },
    {
      "cell_type": "code",
      "metadata": {
        "id": "ILol9RUXWZEd",
        "colab_type": "code",
        "outputId": "82e2aa46-971a-4d6d-e355-3019dbbb4d1d",
        "colab": {
          "base_uri": "https://localhost:8080/",
          "height": 221
        }
      },
      "source": [
        "#We define x and y\n",
        "y = df['status']\n",
        "y\n"
      ],
      "execution_count": 20,
      "outputs": [
        {
          "output_type": "execute_result",
          "data": {
            "text/plain": [
              "0       hypothyroid\n",
              "1       hypothyroid\n",
              "2       hypothyroid\n",
              "3       hypothyroid\n",
              "4       hypothyroid\n",
              "           ...     \n",
              "3158       negative\n",
              "3159       negative\n",
              "3160       negative\n",
              "3161       negative\n",
              "3162       negative\n",
              "Name: status, Length: 3010, dtype: object"
            ]
          },
          "metadata": {
            "tags": []
          },
          "execution_count": 20
        }
      ]
    },
    {
      "cell_type": "code",
      "metadata": {
        "id": "vrdEp1j6cOJ8",
        "colab_type": "code",
        "outputId": "e782f9a9-5aa7-4fc7-cd20-77d419443f4e",
        "colab": {
          "base_uri": "https://localhost:8080/",
          "height": 85
        }
      },
      "source": [
        "#Change our target values(y) to a binary\n",
        "\n",
        "y =df['status']= np.where(df['status']=='hypothyroid',0,1)\n",
        "print(y)\n",
        "df['status'].value_counts()\n"
      ],
      "execution_count": 21,
      "outputs": [
        {
          "output_type": "stream",
          "text": [
            "[0 0 0 ... 1 1 1]\n"
          ],
          "name": "stdout"
        },
        {
          "output_type": "execute_result",
          "data": {
            "text/plain": [
              "1    2879\n",
              "0     131\n",
              "Name: status, dtype: int64"
            ]
          },
          "metadata": {
            "tags": []
          },
          "execution_count": 21
        }
      ]
    },
    {
      "cell_type": "markdown",
      "metadata": {
        "id": "LA6KH0eYa6fj",
        "colab_type": "text"
      },
      "source": [
        "\n",
        "\n",
        "*   1 means it's negative\n",
        "*   0 means it's hypothyroid\n",
        "\n"
      ]
    },
    {
      "cell_type": "code",
      "metadata": {
        "id": "u_UB8THmWqp5",
        "colab_type": "code",
        "outputId": "3a6d4698-dd29-4a89-a525-c910a9821ef8",
        "colab": {
          "base_uri": "https://localhost:8080/",
          "height": 439
        }
      },
      "source": [
        "X = df.drop(['status'], axis=1)\n",
        "X"
      ],
      "execution_count": 22,
      "outputs": [
        {
          "output_type": "execute_result",
          "data": {
            "text/html": [
              "<div>\n",
              "<style scoped>\n",
              "    .dataframe tbody tr th:only-of-type {\n",
              "        vertical-align: middle;\n",
              "    }\n",
              "\n",
              "    .dataframe tbody tr th {\n",
              "        vertical-align: top;\n",
              "    }\n",
              "\n",
              "    .dataframe thead th {\n",
              "        text-align: right;\n",
              "    }\n",
              "</style>\n",
              "<table border=\"1\" class=\"dataframe\">\n",
              "  <thead>\n",
              "    <tr style=\"text-align: right;\">\n",
              "      <th></th>\n",
              "      <th>age</th>\n",
              "      <th>sex</th>\n",
              "      <th>on_thyroxine</th>\n",
              "      <th>query_on_thyroxine</th>\n",
              "      <th>on_antithyroid_medication</th>\n",
              "      <th>thyroid_surgery</th>\n",
              "      <th>query_hypothyroid</th>\n",
              "      <th>query_hyperthyroid</th>\n",
              "      <th>pregnant</th>\n",
              "      <th>sick</th>\n",
              "      <th>tumor</th>\n",
              "      <th>lithium</th>\n",
              "      <th>goitre</th>\n",
              "      <th>TSH_measured</th>\n",
              "      <th>TSH</th>\n",
              "      <th>T3_measured</th>\n",
              "      <th>T3</th>\n",
              "      <th>TT4_measured</th>\n",
              "      <th>TT4</th>\n",
              "      <th>T4U_measured</th>\n",
              "      <th>T4U</th>\n",
              "      <th>FTI_measured</th>\n",
              "      <th>FTI</th>\n",
              "      <th>TBG_measured</th>\n",
              "      <th>TBG</th>\n",
              "    </tr>\n",
              "  </thead>\n",
              "  <tbody>\n",
              "    <tr>\n",
              "      <th>0</th>\n",
              "      <td>72.0</td>\n",
              "      <td>M</td>\n",
              "      <td>f</td>\n",
              "      <td>f</td>\n",
              "      <td>f</td>\n",
              "      <td>f</td>\n",
              "      <td>f</td>\n",
              "      <td>f</td>\n",
              "      <td>f</td>\n",
              "      <td>f</td>\n",
              "      <td>f</td>\n",
              "      <td>f</td>\n",
              "      <td>f</td>\n",
              "      <td>y</td>\n",
              "      <td>30.0</td>\n",
              "      <td>y</td>\n",
              "      <td>0.6</td>\n",
              "      <td>y</td>\n",
              "      <td>15.0</td>\n",
              "      <td>y</td>\n",
              "      <td>1.48</td>\n",
              "      <td>y</td>\n",
              "      <td>10.0</td>\n",
              "      <td>n</td>\n",
              "      <td>28</td>\n",
              "    </tr>\n",
              "    <tr>\n",
              "      <th>1</th>\n",
              "      <td>15.0</td>\n",
              "      <td>F</td>\n",
              "      <td>t</td>\n",
              "      <td>f</td>\n",
              "      <td>f</td>\n",
              "      <td>f</td>\n",
              "      <td>f</td>\n",
              "      <td>f</td>\n",
              "      <td>f</td>\n",
              "      <td>f</td>\n",
              "      <td>f</td>\n",
              "      <td>f</td>\n",
              "      <td>f</td>\n",
              "      <td>y</td>\n",
              "      <td>145.0</td>\n",
              "      <td>y</td>\n",
              "      <td>1.7</td>\n",
              "      <td>y</td>\n",
              "      <td>19.0</td>\n",
              "      <td>y</td>\n",
              "      <td>1.13</td>\n",
              "      <td>y</td>\n",
              "      <td>17.0</td>\n",
              "      <td>n</td>\n",
              "      <td>28</td>\n",
              "    </tr>\n",
              "    <tr>\n",
              "      <th>2</th>\n",
              "      <td>24.0</td>\n",
              "      <td>M</td>\n",
              "      <td>f</td>\n",
              "      <td>f</td>\n",
              "      <td>f</td>\n",
              "      <td>f</td>\n",
              "      <td>f</td>\n",
              "      <td>f</td>\n",
              "      <td>f</td>\n",
              "      <td>f</td>\n",
              "      <td>f</td>\n",
              "      <td>f</td>\n",
              "      <td>f</td>\n",
              "      <td>y</td>\n",
              "      <td>0.0</td>\n",
              "      <td>y</td>\n",
              "      <td>0.2</td>\n",
              "      <td>y</td>\n",
              "      <td>4.0</td>\n",
              "      <td>y</td>\n",
              "      <td>1.00</td>\n",
              "      <td>y</td>\n",
              "      <td>0.0</td>\n",
              "      <td>n</td>\n",
              "      <td>28</td>\n",
              "    </tr>\n",
              "    <tr>\n",
              "      <th>3</th>\n",
              "      <td>24.0</td>\n",
              "      <td>F</td>\n",
              "      <td>f</td>\n",
              "      <td>f</td>\n",
              "      <td>f</td>\n",
              "      <td>f</td>\n",
              "      <td>f</td>\n",
              "      <td>f</td>\n",
              "      <td>f</td>\n",
              "      <td>f</td>\n",
              "      <td>f</td>\n",
              "      <td>f</td>\n",
              "      <td>f</td>\n",
              "      <td>y</td>\n",
              "      <td>430.0</td>\n",
              "      <td>y</td>\n",
              "      <td>0.4</td>\n",
              "      <td>y</td>\n",
              "      <td>6.0</td>\n",
              "      <td>y</td>\n",
              "      <td>1.04</td>\n",
              "      <td>y</td>\n",
              "      <td>6.0</td>\n",
              "      <td>n</td>\n",
              "      <td>28</td>\n",
              "    </tr>\n",
              "    <tr>\n",
              "      <th>4</th>\n",
              "      <td>77.0</td>\n",
              "      <td>M</td>\n",
              "      <td>f</td>\n",
              "      <td>f</td>\n",
              "      <td>f</td>\n",
              "      <td>f</td>\n",
              "      <td>f</td>\n",
              "      <td>f</td>\n",
              "      <td>f</td>\n",
              "      <td>f</td>\n",
              "      <td>f</td>\n",
              "      <td>f</td>\n",
              "      <td>f</td>\n",
              "      <td>y</td>\n",
              "      <td>7.3</td>\n",
              "      <td>y</td>\n",
              "      <td>1.2</td>\n",
              "      <td>y</td>\n",
              "      <td>57.0</td>\n",
              "      <td>y</td>\n",
              "      <td>1.28</td>\n",
              "      <td>y</td>\n",
              "      <td>44.0</td>\n",
              "      <td>n</td>\n",
              "      <td>28</td>\n",
              "    </tr>\n",
              "    <tr>\n",
              "      <th>...</th>\n",
              "      <td>...</td>\n",
              "      <td>...</td>\n",
              "      <td>...</td>\n",
              "      <td>...</td>\n",
              "      <td>...</td>\n",
              "      <td>...</td>\n",
              "      <td>...</td>\n",
              "      <td>...</td>\n",
              "      <td>...</td>\n",
              "      <td>...</td>\n",
              "      <td>...</td>\n",
              "      <td>...</td>\n",
              "      <td>...</td>\n",
              "      <td>...</td>\n",
              "      <td>...</td>\n",
              "      <td>...</td>\n",
              "      <td>...</td>\n",
              "      <td>...</td>\n",
              "      <td>...</td>\n",
              "      <td>...</td>\n",
              "      <td>...</td>\n",
              "      <td>...</td>\n",
              "      <td>...</td>\n",
              "      <td>...</td>\n",
              "      <td>...</td>\n",
              "    </tr>\n",
              "    <tr>\n",
              "      <th>3158</th>\n",
              "      <td>58.0</td>\n",
              "      <td>F</td>\n",
              "      <td>f</td>\n",
              "      <td>f</td>\n",
              "      <td>f</td>\n",
              "      <td>f</td>\n",
              "      <td>f</td>\n",
              "      <td>f</td>\n",
              "      <td>f</td>\n",
              "      <td>f</td>\n",
              "      <td>f</td>\n",
              "      <td>f</td>\n",
              "      <td>f</td>\n",
              "      <td>y</td>\n",
              "      <td>5.8</td>\n",
              "      <td>y</td>\n",
              "      <td>1.7</td>\n",
              "      <td>y</td>\n",
              "      <td>86.0</td>\n",
              "      <td>y</td>\n",
              "      <td>0.91</td>\n",
              "      <td>y</td>\n",
              "      <td>95.0</td>\n",
              "      <td>n</td>\n",
              "      <td>28</td>\n",
              "    </tr>\n",
              "    <tr>\n",
              "      <th>3159</th>\n",
              "      <td>29.0</td>\n",
              "      <td>F</td>\n",
              "      <td>f</td>\n",
              "      <td>f</td>\n",
              "      <td>f</td>\n",
              "      <td>f</td>\n",
              "      <td>f</td>\n",
              "      <td>f</td>\n",
              "      <td>f</td>\n",
              "      <td>f</td>\n",
              "      <td>f</td>\n",
              "      <td>f</td>\n",
              "      <td>f</td>\n",
              "      <td>y</td>\n",
              "      <td>0.8</td>\n",
              "      <td>y</td>\n",
              "      <td>1.8</td>\n",
              "      <td>y</td>\n",
              "      <td>99.0</td>\n",
              "      <td>y</td>\n",
              "      <td>1.01</td>\n",
              "      <td>y</td>\n",
              "      <td>98.0</td>\n",
              "      <td>n</td>\n",
              "      <td>28</td>\n",
              "    </tr>\n",
              "    <tr>\n",
              "      <th>3160</th>\n",
              "      <td>77.0</td>\n",
              "      <td>M</td>\n",
              "      <td>f</td>\n",
              "      <td>f</td>\n",
              "      <td>f</td>\n",
              "      <td>f</td>\n",
              "      <td>f</td>\n",
              "      <td>f</td>\n",
              "      <td>f</td>\n",
              "      <td>f</td>\n",
              "      <td>f</td>\n",
              "      <td>f</td>\n",
              "      <td>f</td>\n",
              "      <td>y</td>\n",
              "      <td>1.2</td>\n",
              "      <td>y</td>\n",
              "      <td>0.6</td>\n",
              "      <td>y</td>\n",
              "      <td>71.0</td>\n",
              "      <td>y</td>\n",
              "      <td>0.68</td>\n",
              "      <td>y</td>\n",
              "      <td>104.0</td>\n",
              "      <td>n</td>\n",
              "      <td>28</td>\n",
              "    </tr>\n",
              "    <tr>\n",
              "      <th>3161</th>\n",
              "      <td>74.0</td>\n",
              "      <td>F</td>\n",
              "      <td>f</td>\n",
              "      <td>f</td>\n",
              "      <td>f</td>\n",
              "      <td>f</td>\n",
              "      <td>f</td>\n",
              "      <td>f</td>\n",
              "      <td>f</td>\n",
              "      <td>f</td>\n",
              "      <td>f</td>\n",
              "      <td>f</td>\n",
              "      <td>f</td>\n",
              "      <td>y</td>\n",
              "      <td>1.3</td>\n",
              "      <td>y</td>\n",
              "      <td>0.1</td>\n",
              "      <td>y</td>\n",
              "      <td>65.0</td>\n",
              "      <td>y</td>\n",
              "      <td>0.48</td>\n",
              "      <td>y</td>\n",
              "      <td>137.0</td>\n",
              "      <td>n</td>\n",
              "      <td>28</td>\n",
              "    </tr>\n",
              "    <tr>\n",
              "      <th>3162</th>\n",
              "      <td>56.0</td>\n",
              "      <td>F</td>\n",
              "      <td>t</td>\n",
              "      <td>f</td>\n",
              "      <td>f</td>\n",
              "      <td>f</td>\n",
              "      <td>f</td>\n",
              "      <td>f</td>\n",
              "      <td>f</td>\n",
              "      <td>f</td>\n",
              "      <td>f</td>\n",
              "      <td>f</td>\n",
              "      <td>f</td>\n",
              "      <td>y</td>\n",
              "      <td>0.0</td>\n",
              "      <td>y</td>\n",
              "      <td>1.8</td>\n",
              "      <td>y</td>\n",
              "      <td>139.0</td>\n",
              "      <td>y</td>\n",
              "      <td>0.97</td>\n",
              "      <td>y</td>\n",
              "      <td>143.0</td>\n",
              "      <td>n</td>\n",
              "      <td>28</td>\n",
              "    </tr>\n",
              "  </tbody>\n",
              "</table>\n",
              "<p>3010 rows × 25 columns</p>\n",
              "</div>"
            ],
            "text/plain": [
              "       age sex on_thyroxine  ...    FTI TBG_measured TBG\n",
              "0     72.0   M            f  ...   10.0            n  28\n",
              "1     15.0   F            t  ...   17.0            n  28\n",
              "2     24.0   M            f  ...    0.0            n  28\n",
              "3     24.0   F            f  ...    6.0            n  28\n",
              "4     77.0   M            f  ...   44.0            n  28\n",
              "...    ...  ..          ...  ...    ...          ...  ..\n",
              "3158  58.0   F            f  ...   95.0            n  28\n",
              "3159  29.0   F            f  ...   98.0            n  28\n",
              "3160  77.0   M            f  ...  104.0            n  28\n",
              "3161  74.0   F            f  ...  137.0            n  28\n",
              "3162  56.0   F            t  ...  143.0            n  28\n",
              "\n",
              "[3010 rows x 25 columns]"
            ]
          },
          "metadata": {
            "tags": []
          },
          "execution_count": 22
        }
      ]
    },
    {
      "cell_type": "markdown",
      "metadata": {
        "id": "Qha8y3-v-uzE",
        "colab_type": "text"
      },
      "source": [
        "###**2.3 Univariate Analysis**"
      ]
    },
    {
      "cell_type": "code",
      "metadata": {
        "id": "HECegawK1QRg",
        "colab_type": "code",
        "colab": {
          "base_uri": "https://localhost:8080/",
          "height": 296
        },
        "outputId": "2594004a-fccf-4463-d0b7-ecd4564b6976"
      },
      "source": [
        "\n",
        "#Use boxplots for status column which would be our target variable.\n",
        "\n",
        "sns.boxplot(x=df['age'])"
      ],
      "execution_count": 27,
      "outputs": [
        {
          "output_type": "execute_result",
          "data": {
            "text/plain": [
              "<matplotlib.axes._subplots.AxesSubplot at 0x7fed65e69e10>"
            ]
          },
          "metadata": {
            "tags": []
          },
          "execution_count": 27
        },
        {
          "output_type": "display_data",
          "data": {
            "image/png": "[encoded data removed]",
            "text/plain": [
              "<Figure size 432x288 with 1 Axes>"
            ]
          },
          "metadata": {
            "tags": []
          }
        }
      ]
    },
    {
      "cell_type": "markdown",
      "metadata": {
        "id": "8NeTs4j56iC0",
        "colab_type": "text"
      },
      "source": [
        "\n",
        "\n",
        "*   There are no outliers for age\n",
        "\n"
      ]
    },
    {
      "cell_type": "code",
      "metadata": {
        "id": "J3qMl1CK6owp",
        "colab_type": "code",
        "colab": {
          "base_uri": "https://localhost:8080/",
          "height": 296
        },
        "outputId": "1a4b2875-37af-4736-8e0d-fa8b6058d576"
      },
      "source": [
        "#Boxplot to show distribution of patients with thyroid disorder\n",
        "sns.boxplot(x=df['TSH'])"
      ],
      "execution_count": 29,
      "outputs": [
        {
          "output_type": "execute_result",
          "data": {
            "text/plain": [
              "<matplotlib.axes._subplots.AxesSubplot at 0x7fed65d1ad68>"
            ]
          },
          "metadata": {
            "tags": []
          },
          "execution_count": 29
        },
        {
          "output_type": "display_data",
          "data": {
            "image/png": "[encoded data removed]",
            "text/plain": [
              "<Figure size 432x288 with 1 Axes>"
            ]
          },
          "metadata": {
            "tags": []
          }
        }
      ]
    },
    {
      "cell_type": "markdown",
      "metadata": {
        "id": "KosJFrCP69Mv",
        "colab_type": "text"
      },
      "source": [
        "The boxplot shows there are outliers.This however can be so because majority who are negative for hypothyroid show very high TSH."
      ]
    },
    {
      "cell_type": "code",
      "metadata": {
        "id": "X8zNeD3w8JgY",
        "colab_type": "code",
        "colab": {
          "base_uri": "https://localhost:8080/",
          "height": 100
        },
        "outputId": "2ab73a36-fbde-4846-e260-20d91c9e592d"
      },
      "source": [
        "#We can view the characteristics of the data point that is far away from other datapoints.\n",
        "#View the row that has the outlier \n",
        "z= df[df[\"TSH\"] >= 500]\n",
        "z"
      ],
      "execution_count": 33,
      "outputs": [
        {
          "output_type": "execute_result",
          "data": {
            "text/html": [
              "<div>\n",
              "<style scoped>\n",
              "    .dataframe tbody tr th:only-of-type {\n",
              "        vertical-align: middle;\n",
              "    }\n",
              "\n",
              "    .dataframe tbody tr th {\n",
              "        vertical-align: top;\n",
              "    }\n",
              "\n",
              "    .dataframe thead th {\n",
              "        text-align: right;\n",
              "    }\n",
              "</style>\n",
              "<table border=\"1\" class=\"dataframe\">\n",
              "  <thead>\n",
              "    <tr style=\"text-align: right;\">\n",
              "      <th></th>\n",
              "      <th>status</th>\n",
              "      <th>age</th>\n",
              "      <th>sex</th>\n",
              "      <th>on_thyroxine</th>\n",
              "      <th>query_on_thyroxine</th>\n",
              "      <th>on_antithyroid_medication</th>\n",
              "      <th>thyroid_surgery</th>\n",
              "      <th>query_hypothyroid</th>\n",
              "      <th>query_hyperthyroid</th>\n",
              "      <th>pregnant</th>\n",
              "      <th>sick</th>\n",
              "      <th>tumor</th>\n",
              "      <th>lithium</th>\n",
              "      <th>goitre</th>\n",
              "      <th>TSH_measured</th>\n",
              "      <th>TSH</th>\n",
              "      <th>T3_measured</th>\n",
              "      <th>T3</th>\n",
              "      <th>TT4_measured</th>\n",
              "      <th>TT4</th>\n",
              "      <th>T4U_measured</th>\n",
              "      <th>T4U</th>\n",
              "      <th>FTI_measured</th>\n",
              "      <th>FTI</th>\n",
              "      <th>TBG_measured</th>\n",
              "      <th>TBG</th>\n",
              "    </tr>\n",
              "  </thead>\n",
              "  <tbody>\n",
              "    <tr>\n",
              "      <th>31</th>\n",
              "      <td>0</td>\n",
              "      <td>59.0</td>\n",
              "      <td>F</td>\n",
              "      <td>f</td>\n",
              "      <td>f</td>\n",
              "      <td>f</td>\n",
              "      <td>f</td>\n",
              "      <td>f</td>\n",
              "      <td>f</td>\n",
              "      <td>f</td>\n",
              "      <td>f</td>\n",
              "      <td>f</td>\n",
              "      <td>f</td>\n",
              "      <td>f</td>\n",
              "      <td>y</td>\n",
              "      <td>530.0</td>\n",
              "      <td>y</td>\n",
              "      <td>2.0</td>\n",
              "      <td>y</td>\n",
              "      <td>10.0</td>\n",
              "      <td>y</td>\n",
              "      <td>1.12</td>\n",
              "      <td>y</td>\n",
              "      <td>8.5</td>\n",
              "      <td>n</td>\n",
              "      <td>28</td>\n",
              "    </tr>\n",
              "  </tbody>\n",
              "</table>\n",
              "</div>"
            ],
            "text/plain": [
              "    status   age sex on_thyroxine  ... FTI_measured  FTI TBG_measured TBG\n",
              "31       0  59.0   F            f  ...            y  8.5            n  28\n",
              "\n",
              "[1 rows x 26 columns]"
            ]
          },
          "metadata": {
            "tags": []
          },
          "execution_count": 33
        }
      ]
    },
    {
      "cell_type": "markdown",
      "metadata": {
        "id": "jk6lxxvJ8mtl",
        "colab_type": "text"
      },
      "source": [
        "The outlier is a female 59 years of age.Due to her age posibility of having thyroid gland disorder is high. This information is relevantly true."
      ]
    },
    {
      "cell_type": "code",
      "metadata": {
        "id": "I_hzw5Nq7XuD",
        "colab_type": "code",
        "colab": {
          "base_uri": "https://localhost:8080/",
          "height": 385
        },
        "outputId": "2de36ccb-1cbc-42fc-9448-ff2da5eab3df"
      },
      "source": [
        "#  checking for correlation of numerical variables\n",
        "\n",
        "plt.figure(dpi=100)\n",
        "\n",
        "sns.heatmap(df.corr(),annot=True)\n",
        "plt.title('A heatmap of different numerical variables')\n",
        "\n",
        "plt.show()"
      ],
      "execution_count": 30,
      "outputs": [
        {
          "output_type": "display_data",
          "data": {
            "image/png": "[encoded data removed]",
            "text/plain": [
              "<Figure size 600x400 with 2 Axes>"
            ]
          },
          "metadata": {
            "tags": []
          }
        }
      ]
    },
    {
      "cell_type": "markdown",
      "metadata": {
        "id": "jkOgU-Eo7s5R",
        "colab_type": "text"
      },
      "source": [
        "The lighter the shade shows that the relationship between the variables is a strong positive correlation."
      ]
    },
    {
      "cell_type": "code",
      "metadata": {
        "id": "H6Z687r7JdNr",
        "colab_type": "code",
        "colab": {
          "base_uri": "https://localhost:8080/",
          "height": 497
        },
        "outputId": "777476c0-e066-4ec8-b81c-8012df81ef2f"
      },
      "source": [
        "# plot using subplots\n",
        "sns.set_style('ticks')\n",
        "fig, ax = plt.subplots()\n",
        "\n",
        "#  Set the size of A4 paper\n",
        "fig.set_size_inches(11.7, 8.27)\n",
        "sns.violinplot(data=df['TT4'], inner=\"points\", ax=ax)    \n",
        "sns.despine()"
      ],
      "execution_count": 81,
      "outputs": [
        {
          "output_type": "display_data",
          "data": {
            "image/png": "[encoded data removed]",
            "text/plain": [
              "<Figure size 842.4x595.44 with 1 Axes>"
            ]
          },
          "metadata": {
            "tags": []
          }
        }
      ]
    },
    {
      "cell_type": "markdown",
      "metadata": {
        "id": "q1IzKn5GKIeP",
        "colab_type": "text"
      },
      "source": [
        "\n",
        "\n",
        "*   **Findings**\n",
        "*   Most patients have TT4 of 100 - 110\n",
        "\n"
      ]
    },
    {
      "cell_type": "markdown",
      "metadata": {
        "id": "-WBXSae7_gGR",
        "colab_type": "text"
      },
      "source": [
        "###**2.4 Bivariate Analysis**"
      ]
    },
    {
      "cell_type": "code",
      "metadata": {
        "id": "cur0KDN_9e8u",
        "colab_type": "code",
        "colab": {
          "base_uri": "https://localhost:8080/",
          "height": 292
        },
        "outputId": "d5216a5c-75be-4249-b6a4-9aa31a6b70d6"
      },
      "source": [
        "df.groupby(['status','sex']).size().unstack().plot(kind='bar',stacked=True)\n",
        "plt.title('A stacked bar for status vs sex')\n",
        "plt.ylabel('Frequency')\n",
        "plt.show()"
      ],
      "execution_count": 36,
      "outputs": [
        {
          "output_type": "display_data",
          "data": {
            "image/png": "[encoded data removed]",
            "text/plain": [
              "<Figure size 432x288 with 1 Axes>"
            ]
          },
          "metadata": {
            "tags": []
          }
        }
      ]
    },
    {
      "cell_type": "markdown",
      "metadata": {
        "id": "gP9X429J94Q-",
        "colab_type": "text"
      },
      "source": [
        "\n",
        "\n",
        "*   Most patients tested negative for hypothyroid\n",
        "*   Most patients who tested negative for hypothyroid are female.\n",
        "\n",
        "*   Most patients that visit Nairobi hospital are female\n",
        "\n",
        "\n",
        "\n",
        "\n"
      ]
    },
    {
      "cell_type": "code",
      "metadata": {
        "id": "E-LYirmyMR91",
        "colab_type": "code",
        "colab": {
          "base_uri": "https://localhost:8080/",
          "height": 295
        },
        "outputId": "caf7a91b-ced1-4920-a8c6-dd90a2f23e7f"
      },
      "source": [
        "# Plot scatter plot for T3 and T4 hormones\n",
        "plt.scatter(df[\"T3\"],df[\"TT4\"])\n",
        "plt.ylabel(\"T3\")\n",
        "plt.xlabel(\"TT4\")\n",
        "plt.title(\"T3 vs TT4 hormones\")\n",
        "plt.show()"
      ],
      "execution_count": 91,
      "outputs": [
        {
          "output_type": "display_data",
          "data": {
            "image/png": "[encoded data removed]",
            "text/plain": [
              "<Figure size 432x288 with 1 Axes>"
            ]
          },
          "metadata": {
            "tags": []
          }
        }
      ]
    },
    {
      "cell_type": "markdown",
      "metadata": {
        "id": "Km6Sr49AMqpZ",
        "colab_type": "text"
      },
      "source": [
        "There is a strong positive linear relationship between T3 and T4 hormones. An increase in TT4 hormone leads to an increase in T3 hormone"
      ]
    },
    {
      "cell_type": "code",
      "metadata": {
        "id": "FZQo4bqlLvIr",
        "colab_type": "code",
        "colab": {
          "base_uri": "https://localhost:8080/",
          "height": 295
        },
        "outputId": "300c3733-e9b7-452f-c44b-182b3a90492a"
      },
      "source": [
        "# Plot scatter plot\n",
        "plt.scatter(df[\"age\"],df[\"TSH\"])\n",
        "plt.ylabel(\"age\")\n",
        "plt.xlabel(\"TSH\")\n",
        "plt.title(\"Age vs TSH hormone\")\n",
        "plt.show()"
      ],
      "execution_count": 92,
      "outputs": [
        {
          "output_type": "display_data",
          "data": {
            "image/png": "[encoded data removed]",
            "text/plain": [
              "<Figure size 432x288 with 1 Axes>"
            ]
          },
          "metadata": {
            "tags": []
          }
        }
      ]
    },
    {
      "cell_type": "markdown",
      "metadata": {
        "id": "9gtzLqDyM-qi",
        "colab_type": "text"
      },
      "source": [
        "Presence of TSH hormone is not affected by the increase in age of a patient."
      ]
    },
    {
      "cell_type": "markdown",
      "metadata": {
        "id": "o3wiRcnDLG6Q",
        "colab_type": "text"
      },
      "source": [
        "###**2.5 Multivariate Analysis**"
      ]
    },
    {
      "cell_type": "code",
      "metadata": {
        "id": "yYtL597zK1eI",
        "colab_type": "code",
        "colab": {
          "base_uri": "https://localhost:8080/",
          "height": 623
        },
        "outputId": "7f82c116-c69b-414f-e43a-148ba354b0be"
      },
      "source": [
        "#Plot status by age and gender\n",
        "sns.factorplot(x='status', y='age', hue=\"sex\" , kind=\"bar\", data=df,size=8,aspect= 1);\n",
        "plt.xticks([0,1], ['Negative',  'Hypothyroid patient'])\n",
        "plt.title(' Status versus Age and Gender Distribution',fontsize = 20)\n",
        "plt.show"
      ],
      "execution_count": 84,
      "outputs": [
        {
          "output_type": "execute_result",
          "data": {
            "text/plain": [
              "<function matplotlib.pyplot.show>"
            ]
          },
          "metadata": {
            "tags": []
          },
          "execution_count": 84
        },
        {
          "output_type": "display_data",
          "data": {
            "image/png": "[encoded data removed]",
            "text/plain": [
              "<Figure size 620.625x576 with 1 Axes>"
            ]
          },
          "metadata": {
            "tags": []
          }
        }
      ]
    },
    {
      "cell_type": "markdown",
      "metadata": {
        "id": "rSqMLgaoLPqy",
        "colab_type": "text"
      },
      "source": [
        "\n",
        "\n",
        "*   Most males are between age of 50-60. They are negative of hypothyroid.\n",
        "*   Females above 40years have high likelyhood of having hypothyroid\n",
        "\n"
      ]
    },
    {
      "cell_type": "markdown",
      "metadata": {
        "id": "MNfFT9kiVvbP",
        "colab_type": "text"
      },
      "source": [
        "##**3. Data Preprocessing**"
      ]
    },
    {
      "cell_type": "code",
      "metadata": {
        "id": "KX6bscyuWPVu",
        "colab_type": "code",
        "outputId": "ca3c438d-19d0-4de4-9434-b839724625b7",
        "colab": {
          "base_uri": "https://localhost:8080/",
          "height": 34
        }
      },
      "source": [
        "from sklearn.model_selection import train_test_split\n",
        "\n",
        "#Split our dataset train dataset size is 80% test datset is 20%\n",
        "X_train, X_test, y_train, y_test = train_test_split(X, y, test_size = 0.2, random_state = 0)\n",
        "\n",
        "print(X_train.shape, X_test.shape)"
      ],
      "execution_count": 34,
      "outputs": [
        {
          "output_type": "stream",
          "text": [
            "(2408, 25) (602, 25)\n"
          ],
          "name": "stdout"
        }
      ]
    },
    {
      "cell_type": "code",
      "metadata": {
        "id": "yMgXQEMiXzUE",
        "colab_type": "code",
        "outputId": "3f565e0c-f595-4719-a125-71e8044d88ac",
        "colab": {
          "base_uri": "https://localhost:8080/",
          "height": 122
        }
      },
      "source": [
        "!pip install sklearn"
      ],
      "execution_count": 32,
      "outputs": [
        {
          "output_type": "stream",
          "text": [
            "Requirement already satisfied: sklearn in /usr/local/lib/python3.6/dist-packages (0.0)\n",
            "Requirement already satisfied: scikit-learn in /usr/local/lib/python3.6/dist-packages (from sklearn) (0.22.1)\n",
            "Requirement already satisfied: numpy>=1.11.0 in /usr/local/lib/python3.6/dist-packages (from scikit-learn->sklearn) (1.17.5)\n",
            "Requirement already satisfied: scipy>=0.17.0 in /usr/local/lib/python3.6/dist-packages (from scikit-learn->sklearn) (1.4.1)\n",
            "Requirement already satisfied: joblib>=0.11 in /usr/local/lib/python3.6/dist-packages (from scikit-learn->sklearn) (0.14.1)\n"
          ],
          "name": "stdout"
        }
      ]
    },
    {
      "cell_type": "code",
      "metadata": {
        "id": "SZTRMoDWX7GB",
        "colab_type": "code",
        "outputId": "58ee58e5-92d9-43ef-81ad-eecf3746e731",
        "colab": {
          "base_uri": "https://localhost:8080/",
          "height": 292
        }
      },
      "source": [
        "!pip install category_encoders"
      ],
      "execution_count": 31,
      "outputs": [
        {
          "output_type": "stream",
          "text": [
            "Collecting category_encoders\n",
            "\u001b[?25l  Downloading https://files.pythonhosted.org/packages/a0/52/c54191ad3782de633ea3d6ee3bb2837bda0cf3bc97644bb6375cf14150a0/category_encoders-2.1.0-py2.py3-none-any.whl (100kB)\n",
            "\u001b[K     |████████████████████████████████| 102kB 1.2MB/s \n",
            "\u001b[?25hRequirement already satisfied: numpy>=1.11.3 in /usr/local/lib/python3.6/dist-packages (from category_encoders) (1.17.5)\n",
            "Requirement already satisfied: statsmodels>=0.6.1 in /usr/local/lib/python3.6/dist-packages (from category_encoders) (0.10.2)\n",
            "Requirement already satisfied: scikit-learn>=0.20.0 in /usr/local/lib/python3.6/dist-packages (from category_encoders) (0.22.1)\n",
            "Requirement already satisfied: scipy>=0.19.0 in /usr/local/lib/python3.6/dist-packages (from category_encoders) (1.4.1)\n",
            "Requirement already satisfied: patsy>=0.4.1 in /usr/local/lib/python3.6/dist-packages (from category_encoders) (0.5.1)\n",
            "Requirement already satisfied: pandas>=0.21.1 in /usr/local/lib/python3.6/dist-packages (from category_encoders) (0.25.3)\n",
            "Requirement already satisfied: joblib>=0.11 in /usr/local/lib/python3.6/dist-packages (from scikit-learn>=0.20.0->category_encoders) (0.14.1)\n",
            "Requirement already satisfied: six in /usr/local/lib/python3.6/dist-packages (from patsy>=0.4.1->category_encoders) (1.12.0)\n",
            "Requirement already satisfied: python-dateutil>=2.6.1 in /usr/local/lib/python3.6/dist-packages (from pandas>=0.21.1->category_encoders) (2.6.1)\n",
            "Requirement already satisfied: pytz>=2017.2 in /usr/local/lib/python3.6/dist-packages (from pandas>=0.21.1->category_encoders) (2018.9)\n",
            "Installing collected packages: category-encoders\n",
            "Successfully installed category-encoders-2.1.0\n"
          ],
          "name": "stdout"
        }
      ]
    },
    {
      "cell_type": "code",
      "metadata": {
        "id": "7gN_G-7oWPIF",
        "colab_type": "code",
        "colab": {}
      },
      "source": [
        "\n",
        "# encode categorical variables with one-hot encoding to numeric\n",
        "\n",
        "encoder = ce.OneHotEncoder(cols=['sex','on_thyroxine','query_on_thyroxine','on_antithyroid_medication','thyroid_surgery','query_hypothyroid','query_hyperthyroid','pregnant','sick','tumor','lithium','goitre','TSH_measured','T3_measured','TT4_measured','T4U_measured','FTI_measured','TBG_measured','TBG'])\n",
        "\n",
        "X_train = encoder.fit_transform(X_train)\n",
        "\n",
        "X_test = encoder.transform(X_test)\n",
        "\n"
      ],
      "execution_count": 0,
      "outputs": []
    },
    {
      "cell_type": "code",
      "metadata": {
        "id": "ub3X_Be9ZAUO",
        "colab_type": "code",
        "outputId": "10c140bd-663f-45c1-e92c-93fc63246d94",
        "colab": {
          "base_uri": "https://localhost:8080/",
          "height": 136
        }
      },
      "source": [
        "print(X_train.head(4))"
      ],
      "execution_count": 39,
      "outputs": [
        {
          "output_type": "stream",
          "text": [
            "            age  sex_1  sex_2  on_thyroxine_1  ...  TBG_43  TBG_44  TBG_45  TBG_46\n",
            "3084  51.154214      1      0               1  ...       0       0       0       0\n",
            "155   64.000000      0      1               1  ...       0       0       0       0\n",
            "72    29.000000      0      1               1  ...       0       0       0       0\n",
            "2897  68.000000      0      1               0  ...       0       0       0       0\n",
            "\n",
            "[4 rows x 88 columns]\n"
          ],
          "name": "stdout"
        }
      ]
    },
    {
      "cell_type": "code",
      "metadata": {
        "id": "HyflLGDMfBWn",
        "colab_type": "code",
        "outputId": "333c6260-c5e6-4c0e-a7d3-cb690f63ffd1",
        "colab": {
          "base_uri": "https://localhost:8080/",
          "height": 34
        }
      },
      "source": [
        "#Confirm there is no nan in train dataset.\n",
        "np.any(np.isnan(X_train))"
      ],
      "execution_count": 40,
      "outputs": [
        {
          "output_type": "execute_result",
          "data": {
            "text/plain": [
              "False"
            ]
          },
          "metadata": {
            "tags": []
          },
          "execution_count": 40
        }
      ]
    },
    {
      "cell_type": "code",
      "metadata": {
        "id": "pTf6ioW6fs_N",
        "colab_type": "code",
        "outputId": "c36a597a-5ba3-4891-f469-90703426b3ed",
        "colab": {
          "base_uri": "https://localhost:8080/",
          "height": 34
        }
      },
      "source": [
        "# Confirm there is no nan in  test dataset\n",
        "np.any(np.isnan(X_test))"
      ],
      "execution_count": 41,
      "outputs": [
        {
          "output_type": "execute_result",
          "data": {
            "text/plain": [
              "False"
            ]
          },
          "metadata": {
            "tags": []
          },
          "execution_count": 41
        }
      ]
    },
    {
      "cell_type": "markdown",
      "metadata": {
        "id": "UQHhiK3IZmUJ",
        "colab_type": "text"
      },
      "source": [
        "###**3.1 Feature scaling**\n",
        "\n",
        "Feature scaling is a method used to normalize the range of independent variables or features of data. In data processing, it is also known as data normalization.\n",
        "\n",
        "We need to normalize our independent variables. We use robust scaler to do this."
      ]
    },
    {
      "cell_type": "code",
      "metadata": {
        "id": "_OGbx_N1ZkVZ",
        "colab_type": "code",
        "colab": {}
      },
      "source": [
        "#Use robust scaler to normalize our dataset\n",
        "cols = X_train.columns\n",
        "\n",
        "\n",
        "scaler = RobustScaler()\n",
        "\n",
        "X_train = scaler.fit_transform(X_train)\n",
        "\n",
        "X_test = scaler.transform(X_test)\n",
        "X_train = pd.DataFrame(X_train, columns=[cols])\n",
        "X_test = pd.DataFrame(X_test, columns=[cols])"
      ],
      "execution_count": 0,
      "outputs": []
    },
    {
      "cell_type": "markdown",
      "metadata": {
        "id": "rcJLjkRXbljM",
        "colab_type": "text"
      },
      "source": [
        "##**4. Random Forest Classifier model with default parameters- 10 decision trees**"
      ]
    },
    {
      "cell_type": "code",
      "metadata": {
        "id": "aVGDHL7nb4B6",
        "colab_type": "code",
        "outputId": "7b232468-f9e2-4eb5-95dd-48dda848a986",
        "colab": {
          "base_uri": "https://localhost:8080/",
          "height": 34
        }
      },
      "source": [
        "\n",
        "# Intiate the randomforestclassifier \n",
        "rf = RandomForestClassifier(random_state=0)\n",
        "\n",
        "# fit the model\n",
        "rf.fit(X_train, y_train)\n",
        "\n",
        "# Predict the Test set results\n",
        "y_pred = rf.predict(X_test)\n",
        "\n",
        "# Check accuracy score \n",
        "\n",
        "from sklearn.metrics import accuracy_score\n",
        "\n",
        "print('Model accuracy score with 10 decision-trees : {0:0.4f}'. format(accuracy_score(y_test, y_pred)))"
      ],
      "execution_count": 45,
      "outputs": [
        {
          "output_type": "stream",
          "text": [
            "Model accuracy score with 10 decision-trees : 0.9884\n"
          ],
          "name": "stdout"
        }
      ]
    },
    {
      "cell_type": "code",
      "metadata": {
        "id": "d5eQLiPrEvVt",
        "colab_type": "code",
        "outputId": "049ec8e2-86ba-499a-b4f8-b9f1384143b0",
        "colab": {
          "base_uri": "https://localhost:8080/",
          "height": 34
        }
      },
      "source": [
        "#Check the error rate of the model.\n",
        "\n",
        "print('Root Mean Squared Error:', np.sqrt(metrics.mean_squared_error(y_test, y_pred)))"
      ],
      "execution_count": 46,
      "outputs": [
        {
          "output_type": "stream",
          "text": [
            "Root Mean Squared Error: 0.10783277320343841\n"
          ],
          "name": "stdout"
        }
      ]
    },
    {
      "cell_type": "code",
      "metadata": {
        "id": "95CSTRObFpRm",
        "colab_type": "code",
        "outputId": "a5013ad3-40eb-426d-b9ea-77c1dcbdb048",
        "colab": {
          "base_uri": "https://localhost:8080/",
          "height": 51
        }
      },
      "source": [
        "#Compute the confusion matrix to understand the actual versus predicted variables.\n",
        "from sklearn.metrics import confusion_matrix\n",
        "confusion = confusion_matrix(y_test,y_pred)\n",
        "confusion\n"
      ],
      "execution_count": 47,
      "outputs": [
        {
          "output_type": "execute_result",
          "data": {
            "text/plain": [
              "array([[ 18,   5],\n",
              "       [  2, 577]])"
            ]
          },
          "metadata": {
            "tags": []
          },
          "execution_count": 47
        }
      ]
    },
    {
      "cell_type": "markdown",
      "metadata": {
        "id": "QQXyBrcXHUjZ",
        "colab_type": "text"
      },
      "source": [
        "\n",
        "\n",
        "\n",
        "*   **Findings**\n",
        "\n",
        "*   Model accuracy was 98% with an error rate of 0.11. The model predicted 602 negative and 17 hypothyroid correctly\n",
        "*   To improve the model perfomance, we increase the number of decision trees to 100, increase the max depth and reduce sample split to 20.\n",
        "\n"
      ]
    },
    {
      "cell_type": "markdown",
      "metadata": {
        "id": "zSqcCIvxARAG",
        "colab_type": "text"
      },
      "source": [
        "###**4.1 Challenging the model**"
      ]
    },
    {
      "cell_type": "markdown",
      "metadata": {
        "id": "vIOufYtxgE60",
        "colab_type": "text"
      },
      "source": [
        "##**Random forest classifier using 100 decision trees**"
      ]
    },
    {
      "cell_type": "code",
      "metadata": {
        "id": "XIKfKLmce6Wo",
        "colab_type": "code",
        "outputId": "51d643c4-9636-4e21-8f0f-084d1307d685",
        "colab": {
          "base_uri": "https://localhost:8080/",
          "height": 153
        }
      },
      "source": [
        "# Run the classifier with n_estimators = 100\n",
        "\n",
        "rf1 = RandomForestClassifier(n_estimators=100, random_state=0,max_depth=5, min_samples_split = 20)\n",
        "\n",
        "# fit the model to the training set\n",
        "rf1.fit(X_train, y_train)"
      ],
      "execution_count": 49,
      "outputs": [
        {
          "output_type": "execute_result",
          "data": {
            "text/plain": [
              "RandomForestClassifier(bootstrap=True, ccp_alpha=0.0, class_weight=None,\n",
              "                       criterion='gini', max_depth=5, max_features='auto',\n",
              "                       max_leaf_nodes=None, max_samples=None,\n",
              "                       min_impurity_decrease=0.0, min_impurity_split=None,\n",
              "                       min_samples_leaf=1, min_samples_split=20,\n",
              "                       min_weight_fraction_leaf=0.0, n_estimators=100,\n",
              "                       n_jobs=None, oob_score=False, random_state=0, verbose=0,\n",
              "                       warm_start=False)"
            ]
          },
          "metadata": {
            "tags": []
          },
          "execution_count": 49
        }
      ]
    },
    {
      "cell_type": "code",
      "metadata": {
        "id": "dw0ZiMO9Ds9n",
        "colab_type": "code",
        "colab": {}
      },
      "source": [
        "# Predict on the test set results\n",
        "y_pred1 = rf1.predict(X_test)\n"
      ],
      "execution_count": 0,
      "outputs": []
    },
    {
      "cell_type": "code",
      "metadata": {
        "id": "P8r_4d_QA91W",
        "colab_type": "code",
        "outputId": "59e2af98-4adb-496a-94ce-b448a27c7e09",
        "colab": {
          "base_uri": "https://localhost:8080/",
          "height": 297
        }
      },
      "source": [
        "# Create a comparison frame between the actual and predicted target variable\n",
        "comparison_frame = pd.DataFrame({'Actual': y_test.flatten(), 'Predicted': y_pred.flatten()})\n",
        "\n",
        "comparison_frame.describe()"
      ],
      "execution_count": 51,
      "outputs": [
        {
          "output_type": "execute_result",
          "data": {
            "text/html": [
              "<div>\n",
              "<style scoped>\n",
              "    .dataframe tbody tr th:only-of-type {\n",
              "        vertical-align: middle;\n",
              "    }\n",
              "\n",
              "    .dataframe tbody tr th {\n",
              "        vertical-align: top;\n",
              "    }\n",
              "\n",
              "    .dataframe thead th {\n",
              "        text-align: right;\n",
              "    }\n",
              "</style>\n",
              "<table border=\"1\" class=\"dataframe\">\n",
              "  <thead>\n",
              "    <tr style=\"text-align: right;\">\n",
              "      <th></th>\n",
              "      <th>Actual</th>\n",
              "      <th>Predicted</th>\n",
              "    </tr>\n",
              "  </thead>\n",
              "  <tbody>\n",
              "    <tr>\n",
              "      <th>count</th>\n",
              "      <td>602.000000</td>\n",
              "      <td>602.000000</td>\n",
              "    </tr>\n",
              "    <tr>\n",
              "      <th>mean</th>\n",
              "      <td>0.961794</td>\n",
              "      <td>0.966777</td>\n",
              "    </tr>\n",
              "    <tr>\n",
              "      <th>std</th>\n",
              "      <td>0.191853</td>\n",
              "      <td>0.179366</td>\n",
              "    </tr>\n",
              "    <tr>\n",
              "      <th>min</th>\n",
              "      <td>0.000000</td>\n",
              "      <td>0.000000</td>\n",
              "    </tr>\n",
              "    <tr>\n",
              "      <th>25%</th>\n",
              "      <td>1.000000</td>\n",
              "      <td>1.000000</td>\n",
              "    </tr>\n",
              "    <tr>\n",
              "      <th>50%</th>\n",
              "      <td>1.000000</td>\n",
              "      <td>1.000000</td>\n",
              "    </tr>\n",
              "    <tr>\n",
              "      <th>75%</th>\n",
              "      <td>1.000000</td>\n",
              "      <td>1.000000</td>\n",
              "    </tr>\n",
              "    <tr>\n",
              "      <th>max</th>\n",
              "      <td>1.000000</td>\n",
              "      <td>1.000000</td>\n",
              "    </tr>\n",
              "  </tbody>\n",
              "</table>\n",
              "</div>"
            ],
            "text/plain": [
              "           Actual   Predicted\n",
              "count  602.000000  602.000000\n",
              "mean     0.961794    0.966777\n",
              "std      0.191853    0.179366\n",
              "min      0.000000    0.000000\n",
              "25%      1.000000    1.000000\n",
              "50%      1.000000    1.000000\n",
              "75%      1.000000    1.000000\n",
              "max      1.000000    1.000000"
            ]
          },
          "metadata": {
            "tags": []
          },
          "execution_count": 51
        }
      ]
    },
    {
      "cell_type": "code",
      "metadata": {
        "id": "g5O45vwJAqyb",
        "colab_type": "code",
        "outputId": "bbf5e77a-9dc4-43c0-bace-d41b566a154b",
        "colab": {
          "base_uri": "https://localhost:8080/",
          "height": 34
        }
      },
      "source": [
        "# Check accuracy score \n",
        "print('Model accuracy score with 100 decision-trees : {0:0.4f}'. format(accuracy_score(y_test, y_pred1)))"
      ],
      "execution_count": 54,
      "outputs": [
        {
          "output_type": "stream",
          "text": [
            "Model accuracy score with 100 decision-trees : 0.9867\n"
          ],
          "name": "stdout"
        }
      ]
    },
    {
      "cell_type": "code",
      "metadata": {
        "id": "GmYTm9JuAtpQ",
        "colab_type": "code",
        "outputId": "9c8313e9-c432-4086-8f67-125bfe1af514",
        "colab": {
          "base_uri": "https://localhost:8080/",
          "height": 34
        }
      },
      "source": [
        "#Check the error rate using root mean squared error\n",
        "\n",
        "from sklearn import metrics\n",
        "print('Root Mean Squared Error:', np.sqrt(metrics.mean_squared_error(y_test, y_pred)))"
      ],
      "execution_count": 55,
      "outputs": [
        {
          "output_type": "stream",
          "text": [
            "Root Mean Squared Error: 0.10783277320343841\n"
          ],
          "name": "stdout"
        }
      ]
    },
    {
      "cell_type": "markdown",
      "metadata": {
        "id": "dWOtGlBfdZak",
        "colab_type": "text"
      },
      "source": [
        "Error rate is very low. 0.11.Shows the model is relevantly good."
      ]
    },
    {
      "cell_type": "code",
      "metadata": {
        "id": "CJZjrdyiHCGM",
        "colab_type": "code",
        "outputId": "f4c6ad62-77c2-4e24-f326-7ac91837483f",
        "colab": {
          "base_uri": "https://localhost:8080/",
          "height": 51
        }
      },
      "source": [
        "# Calculate a confusion matrix to identify what patients were predicted to be negative or have hypothyroid\n",
        "confusion = confusion_matrix(y_test,y_pred1)\n",
        "confusion"
      ],
      "execution_count": 56,
      "outputs": [
        {
          "output_type": "execute_result",
          "data": {
            "text/plain": [
              "array([[ 15,   8],\n",
              "       [  0, 579]])"
            ]
          },
          "metadata": {
            "tags": []
          },
          "execution_count": 56
        }
      ]
    },
    {
      "cell_type": "markdown",
      "metadata": {
        "id": "CkwbVJi6BRWt",
        "colab_type": "text"
      },
      "source": [
        "\n",
        "\n",
        "\n",
        "\n",
        "* **Findings**\n",
        "\n",
        "\n",
        "*   The model accuracy still remained the same 98% even after the number of decision trees.The error rate is very minimal : 0.11\n",
        "\n",
        "*   The model predicted 579 patients were negative while in the actual they wrere negative.\n",
        "*   The model predicted 15 patients had hypotyroid while in the actual they were.\n",
        "\n",
        "\n",
        "*   This means the accuracy of the model is not affected by the change in decision trees.\n",
        "\n",
        "*   However, we can still improve on the model using gradient boosting and see how it will perfom.\n",
        "\n",
        "\n",
        "\n",
        "\n"
      ]
    },
    {
      "cell_type": "markdown",
      "metadata": {
        "id": "fHNGcybXNJhd",
        "colab_type": "text"
      },
      "source": [
        "##**Gradient Boosting Classifier**"
      ]
    },
    {
      "cell_type": "code",
      "metadata": {
        "id": "wO_AcnLGBJrb",
        "colab_type": "code",
        "outputId": "d2eb0e5c-9203-4b1c-9315-7a631a94aca0",
        "colab": {
          "base_uri": "https://localhost:8080/",
          "height": 187
        }
      },
      "source": [
        "#Intiate the gradient boosting classifier\n",
        "gradient = GradientBoostingClassifier(learning_rate =0.1,n_estimators=100,max_depth=3,min_samples_split=2) # defining my classifier as  gradient\n",
        "\n",
        "#fit the train dataset in the classifier\n",
        "gradient.fit(X_train,y_train)"
      ],
      "execution_count": 60,
      "outputs": [
        {
          "output_type": "execute_result",
          "data": {
            "text/plain": [
              "GradientBoostingClassifier(ccp_alpha=0.0, criterion='friedman_mse', init=None,\n",
              "                           learning_rate=0.1, loss='deviance', max_depth=3,\n",
              "                           max_features=None, max_leaf_nodes=None,\n",
              "                           min_impurity_decrease=0.0, min_impurity_split=None,\n",
              "                           min_samples_leaf=1, min_samples_split=2,\n",
              "                           min_weight_fraction_leaf=0.0, n_estimators=100,\n",
              "                           n_iter_no_change=None, presort='deprecated',\n",
              "                           random_state=None, subsample=1.0, tol=0.0001,\n",
              "                           validation_fraction=0.1, verbose=0,\n",
              "                           warm_start=False)"
            ]
          },
          "metadata": {
            "tags": []
          },
          "execution_count": 60
        }
      ]
    },
    {
      "cell_type": "code",
      "metadata": {
        "id": "BSR5V4g-Ngiz",
        "colab_type": "code",
        "outputId": "523dfaba-c7e6-446a-93f9-c31bb32567dd",
        "colab": {
          "base_uri": "https://localhost:8080/",
          "height": 493
        }
      },
      "source": [
        "#Making a prediction\n",
        "y_pred_g = gradient.predict(X_test)\n",
        "y_pred_g"
      ],
      "execution_count": 61,
      "outputs": [
        {
          "output_type": "execute_result",
          "data": {
            "text/plain": [
              "array([1, 1, 1, 1, 1, 1, 1, 1, 1, 0, 1, 1, 1, 1, 1, 1, 1, 1, 1, 1, 1, 1,\n",
              "       1, 1, 1, 1, 1, 1, 1, 1, 1, 1, 1, 1, 1, 1, 1, 1, 1, 0, 1, 1, 1, 1,\n",
              "       1, 1, 1, 0, 1, 1, 1, 1, 1, 1, 1, 1, 1, 1, 1, 1, 1, 0, 1, 1, 1, 1,\n",
              "       1, 1, 1, 1, 1, 1, 1, 1, 1, 1, 1, 1, 1, 1, 1, 1, 1, 1, 1, 1, 1, 1,\n",
              "       1, 1, 1, 1, 1, 1, 1, 1, 1, 1, 1, 1, 1, 1, 1, 1, 1, 1, 1, 1, 1, 1,\n",
              "       1, 1, 0, 1, 1, 1, 1, 1, 1, 1, 1, 1, 1, 0, 1, 1, 1, 1, 1, 1, 1, 1,\n",
              "       1, 1, 1, 1, 1, 1, 1, 1, 1, 1, 1, 1, 1, 1, 1, 1, 1, 1, 1, 1, 1, 1,\n",
              "       1, 1, 1, 1, 1, 1, 1, 1, 1, 1, 1, 1, 1, 1, 1, 1, 1, 0, 1, 1, 1, 1,\n",
              "       1, 1, 1, 1, 1, 1, 1, 1, 1, 1, 1, 1, 1, 1, 1, 1, 1, 1, 1, 1, 1, 0,\n",
              "       1, 1, 1, 1, 1, 1, 0, 1, 1, 1, 1, 1, 1, 1, 1, 1, 1, 1, 1, 1, 1, 1,\n",
              "       1, 1, 1, 1, 1, 1, 1, 1, 1, 1, 1, 1, 1, 1, 1, 1, 1, 1, 1, 1, 1, 1,\n",
              "       1, 1, 1, 1, 1, 1, 1, 1, 1, 1, 1, 1, 1, 1, 1, 1, 1, 1, 1, 1, 1, 1,\n",
              "       1, 1, 1, 1, 1, 0, 1, 0, 1, 1, 1, 1, 1, 1, 1, 1, 1, 1, 1, 1, 1, 1,\n",
              "       1, 1, 1, 1, 1, 1, 1, 1, 1, 1, 1, 1, 1, 1, 1, 1, 1, 1, 1, 1, 0, 1,\n",
              "       1, 1, 1, 1, 1, 1, 1, 1, 1, 1, 1, 1, 1, 1, 1, 1, 1, 1, 1, 0, 1, 1,\n",
              "       1, 1, 1, 1, 0, 1, 1, 1, 1, 1, 1, 1, 1, 1, 1, 1, 1, 1, 1, 1, 1, 1,\n",
              "       1, 1, 1, 1, 1, 1, 1, 1, 1, 1, 1, 1, 1, 1, 1, 1, 1, 1, 1, 1, 1, 1,\n",
              "       1, 1, 1, 1, 1, 1, 1, 1, 1, 1, 1, 1, 1, 1, 1, 1, 1, 1, 1, 1, 1, 1,\n",
              "       1, 1, 1, 1, 1, 1, 1, 1, 1, 1, 1, 1, 1, 1, 1, 1, 1, 1, 1, 1, 1, 1,\n",
              "       1, 1, 1, 1, 1, 1, 1, 1, 0, 1, 1, 1, 1, 1, 1, 1, 1, 1, 1, 1, 1, 1,\n",
              "       1, 1, 1, 1, 1, 1, 1, 1, 1, 1, 1, 1, 1, 1, 1, 1, 1, 1, 1, 1, 0, 1,\n",
              "       1, 1, 0, 1, 1, 1, 1, 1, 1, 1, 1, 1, 1, 1, 1, 1, 1, 1, 1, 1, 1, 1,\n",
              "       1, 1, 1, 1, 1, 1, 1, 1, 1, 1, 1, 0, 1, 1, 1, 1, 1, 1, 1, 1, 1, 1,\n",
              "       1, 1, 1, 1, 1, 1, 1, 1, 1, 1, 1, 1, 1, 1, 1, 1, 1, 1, 1, 1, 1, 1,\n",
              "       1, 1, 1, 0, 1, 1, 1, 1, 1, 1, 1, 0, 1, 1, 1, 1, 1, 1, 1, 1, 1, 1,\n",
              "       1, 1, 1, 1, 1, 1, 1, 1, 1, 1, 1, 1, 1, 1, 1, 1, 1, 1, 1, 1, 1, 1,\n",
              "       1, 1, 1, 1, 1, 1, 1, 1, 1, 1, 1, 1, 1, 1, 0, 1, 1, 1, 1, 1, 1, 1,\n",
              "       1, 1, 1, 1, 1, 1, 1, 1])"
            ]
          },
          "metadata": {
            "tags": []
          },
          "execution_count": 61
        }
      ]
    },
    {
      "cell_type": "code",
      "metadata": {
        "id": "LlLwWvn9NmpR",
        "colab_type": "code",
        "outputId": "8172f6b9-3056-46f6-f1ea-9770ce6db6af",
        "colab": {
          "base_uri": "https://localhost:8080/",
          "height": 34
        }
      },
      "source": [
        "#Check the accuracy score of the gradient model\n",
        "print(\"gradient_Accuracy score is :\",metrics.accuracy_score(y_test, y_pred_g))"
      ],
      "execution_count": 62,
      "outputs": [
        {
          "output_type": "stream",
          "text": [
            "gradient_Accuracy score is : 0.9900332225913622\n"
          ],
          "name": "stdout"
        }
      ]
    },
    {
      "cell_type": "code",
      "metadata": {
        "id": "p0QCuPYLOn-o",
        "colab_type": "code",
        "outputId": "405093b1-539e-42d4-ad8f-6c1094e04f21",
        "colab": {
          "base_uri": "https://localhost:8080/",
          "height": 51
        }
      },
      "source": [
        "# Calculate a confusion matrix to identify what patients were predicted to be negative or have hypothyroid\n",
        "confusion = confusion_matrix(y_test,y_pred_g)\n",
        "confusion"
      ],
      "execution_count": 63,
      "outputs": [
        {
          "output_type": "execute_result",
          "data": {
            "text/plain": [
              "array([[ 19,   4],\n",
              "       [  2, 577]])"
            ]
          },
          "metadata": {
            "tags": []
          },
          "execution_count": 63
        }
      ]
    },
    {
      "cell_type": "markdown",
      "metadata": {
        "id": "I0FOGzQrN8RI",
        "colab_type": "text"
      },
      "source": [
        "\n",
        "\n",
        "*   **Findings**\n",
        "*   The accuracy score of the model increased to 99%.\n",
        "\n",
        "*   The model predicted 577 patients were negative while in the actual they wrere negative.\n",
        "*   The model predicted 19 patients had hypothyroid while in the actual they were.\n",
        "*   In this case, we can use the gradient boosting classifier model compared to random forest as it's perfomance increased.\n",
        "\n",
        "\n",
        "\n"
      ]
    },
    {
      "cell_type": "markdown",
      "metadata": {
        "id": "wUBHc0hwPdFu",
        "colab_type": "text"
      },
      "source": [
        "##**SVM(Support Vector Machine)**\n",
        "\n",
        "SVM is based on the idea of finding a hyperplane that best separates the features into different domains.\n",
        "\n",
        "To challenge our baseline model, we will use svm and tuning with:\n",
        "\n",
        "\n",
        "RBF - Radial basis function kernel\n",
        "\n",
        "Polynomial kernel\n",
        "\n",
        "Linear kernel"
      ]
    },
    {
      "cell_type": "code",
      "metadata": {
        "id": "PvcPVYfpN5jR",
        "colab_type": "code",
        "colab": {}
      },
      "source": [
        "#For this, we will create svm before parameter tuning and after parameter tuning using rbf. This is because we are solving a classifier.\n",
        "# SVM before parameter tuning\n",
        "svm  = SVC(kernel = 'linear',C=1.0,gamma='auto',random_state=2)\n",
        "\n",
        "#SVM after parameter tuning. RBf is used to increase the dimension\n",
        "svm_rbf = SVC(kernel = 'rbf',C=1.0,gamma='auto',random_state=0)\n",
        "\n",
        "#SVM after parameter tuning. Sigmoid is used to increase the dimension\n",
        "clf = SVC(kernel = 'sigmoid',C=1.0,gamma='auto',random_state=0)\n"
      ],
      "execution_count": 0,
      "outputs": []
    },
    {
      "cell_type": "code",
      "metadata": {
        "id": "p8ffngdUQPgv",
        "colab_type": "code",
        "outputId": "0097bdcd-8edf-465f-bce3-96ecd557896c",
        "colab": {
          "base_uri": "https://localhost:8080/",
          "height": 85
        }
      },
      "source": [
        "#  fitting the train into the model\n",
        "\n",
        "#For linear\n",
        "svm.fit(X_train,y_train)\n",
        "\n",
        "#For rbf\n",
        "svm_rbf.fit(X_train,y_train)\n",
        "\n",
        "#For sigmoid\n",
        "clf.fit(X_train,y_train)"
      ],
      "execution_count": 65,
      "outputs": [
        {
          "output_type": "execute_result",
          "data": {
            "text/plain": [
              "SVC(C=1.0, break_ties=False, cache_size=200, class_weight=None, coef0=0.0,\n",
              "    decision_function_shape='ovr', degree=3, gamma='auto', kernel='sigmoid',\n",
              "    max_iter=-1, probability=False, random_state=0, shrinking=True, tol=0.001,\n",
              "    verbose=False)"
            ]
          },
          "metadata": {
            "tags": []
          },
          "execution_count": 65
        }
      ]
    },
    {
      "cell_type": "code",
      "metadata": {
        "id": "Ygw-MTpKQTh_",
        "colab_type": "code",
        "colab": {}
      },
      "source": [
        "# Now that we have trained our model, let's test how well it can predict if a patient is negattive or positive for hypothyroid\n",
        "\n",
        "#Making predictions for linear\n",
        "y_pred_svc = svm.predict(X_test)\n",
        "\n",
        "#Making predictions for rbf\n",
        "y_pred_rbf = svm_rbf.predict(X_test)\n",
        "\n",
        "#Making predictions with parameter tuning\n",
        "y_pred1 = clf.predict(X_test)"
      ],
      "execution_count": 0,
      "outputs": []
    },
    {
      "cell_type": "code",
      "metadata": {
        "id": "U_eTOucKQqW2",
        "colab_type": "code",
        "outputId": "bb1aee9c-ba94-4337-ebe8-8d8ed7ecb598",
        "colab": {
          "base_uri": "https://localhost:8080/",
          "height": 68
        }
      },
      "source": [
        "#Check accuracy of model before setting any parameters\n",
        "print(\"Accuracy with linear kernel:\",metrics.accuracy_score(y_test, y_pred_svc))\n",
        "\n",
        "#Accuracy score using rbf function\n",
        "print(\"Accuracy with rbf kernel : \", accuracy_score(y_test,y_pred_rbf))\n",
        "\n",
        "#Accuracy score using sigmoid function\n",
        "print(\"Accuracy with sigmoid kernel : \", accuracy_score(y_test,y_pred))"
      ],
      "execution_count": 68,
      "outputs": [
        {
          "output_type": "stream",
          "text": [
            "Accuracy with linear kernel: 0.9867109634551495\n",
            "Accuracy with rbf kernel :  0.9916943521594684\n",
            "Accuracy with sigmoid kernel :  0.9883720930232558\n"
          ],
          "name": "stdout"
        }
      ]
    },
    {
      "cell_type": "markdown",
      "metadata": {
        "id": "2K0oZu_XREs3",
        "colab_type": "text"
      },
      "source": [
        "\n",
        "\n",
        "\n",
        "*   **Findings**\n",
        "\n",
        "\n",
        "*    Reason behind not plotting the graph to show the hyperplane  is that we were dealing with multiple features so it would have been pretty hard to visualize.\n",
        "\n",
        "*   The accuracy score of models was 98.6% after tuning the parameters using linear, the model accuracy increased to 99%. Sigmoid is 98.8%\n",
        "\n",
        "\n",
        "\n",
        "\n"
      ]
    },
    {
      "cell_type": "markdown",
      "metadata": {
        "id": "coDQGwMjVc0V",
        "colab_type": "text"
      },
      "source": [
        "##**Further questions**\n",
        "\n",
        "\n",
        "*   Based on the fact that our dataset had many patients with negative results on hypothyroid,did it affect the model accuracy to be that high even after using advanced models?\n",
        "\n",
        "\n",
        "\n",
        "\n"
      ]
    },
    {
      "cell_type": "markdown",
      "metadata": {
        "id": "_PbldDYBWSmG",
        "colab_type": "text"
      },
      "source": [
        "##**Challenges**\n",
        "\n",
        "\n",
        "*   Despite using different classification models, differences between the model accuracy was very minimal.\n",
        "\n",
        "\n",
        "*   It was a challenge picking the best model for prediction since they all had almost the same accuracy score and very low error rate.\n",
        "\n",
        "\n",
        "\n",
        "\n"
      ]
    },
    {
      "cell_type": "markdown",
      "metadata": {
        "id": "MS6DQw6hXB51",
        "colab_type": "text"
      },
      "source": [
        "##**Future prospects**\n",
        "\n",
        "\n",
        "*   Dataset should be evenly distributed interms of status to avoid model overfitting.\n",
        "\n"
      ]
    }
  ]
}